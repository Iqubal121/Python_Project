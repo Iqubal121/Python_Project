{
  "nbformat": 4,
  "nbformat_minor": 0,
  "metadata": {
    "colab": {
      "provenance": [],
      "collapsed_sections": [],
      "authorship_tag": "ABX9TyOYrEb+6WWjb68i85qAQE3V",
      "include_colab_link": true
    },
    "kernelspec": {
      "name": "python3",
      "display_name": "Python 3"
    },
    "language_info": {
      "name": "python"
    }
  },
  "cells": [
    {
      "cell_type": "markdown",
      "metadata": {
        "id": "view-in-github",
        "colab_type": "text"
      },
      "source": [
        "<a href=\"https://colab.research.google.com/github/Iqubal121/Python_Project/blob/main/Hicounsler.ipynb\" target=\"_parent\"><img src=\"https://colab.research.google.com/assets/colab-badge.svg\" alt=\"Open In Colab\"/></a>"
      ]
    },
    {
      "cell_type": "markdown",
      "source": [
        "# Leetcode solution\n"
      ],
      "metadata": {
        "id": "0W6NH4M6pDBR"
      }
    },
    {
      "cell_type": "code",
      "source": [
        "#https://colab.research.google.com/assets/colab-badge.svg\n",
        "#https://colab.research.google.com/github/googlecolab/colabtools/blob/master/notebooks/colab-github-demo.ipynb"
      ],
      "metadata": {
        "id": "52FENiJUDRY1"
      },
      "execution_count": null,
      "outputs": []
    },
    {
      "cell_type": "code",
      "execution_count": null,
      "metadata": {
        "id": "H_sSlk7itaDJ"
      },
      "outputs": [],
      "source": [
        "# Rearrange an array of integers so that the calculated value M is maximized. \n",
        "# Among the arrangements that satisfy that test, choose the array with minimal ordering. The value of M for an array with n elements is calculated as :\n",
        " \n",
        "#     M = arr1[1] × arr1[2] × (1 ÷ arr1[3])× arr1[4] ×...× arr1[n-1] × (1 ÷ arr1[n]) if n is odd\n",
        "#                                          or\n",
        "#     M = arr1[1] × arr1[2] × ( 1 ÷ arr1[3]) × arr1[4]×...× (1 ÷ arr1[n-1]) × arr1[n] if n is even\n",
        " \n",
        "# The sequence of operations is the same in either case, but the length of the array, n, determines whether the calculation ends on arr1[n] or ( 1 ÷ arr1[n]).\n",
        " \n",
        "# Arrange the elements to maximize M so the items are in the numerically smallest possible order.\n",
        " \n",
        "# Example\n",
        "# arr1 = [6,7,9,11,23]\n",
        " \n",
        "# To maximize M and minimize the order, arrange the array as [9, 11, 6, 23, 7] so M = 9 × 11 × (1÷6) × 23 × (1÷7) = 54.2. \n",
        "# The same M can be achieved using several other orders, e.g. [11, 9, 7, 23, 6] = 11 × 9 × (1÷7) × 23 × (1÷6) = 54.2, but they are not in the minimum order.\n",
        " \n",
        "# Function Description\n",
        "# Complete the function rearrange in the editor.\n",
        " \n",
        "# rearrange has the following parameter(s):\n",
        "#     int arr1[n]:  an array of integers\n",
        " \n",
        "# Returns\n",
        "#     int[n]: the elements of arr1 rearranged as described\n",
        " \n",
        "# Constraints\n",
        "# 1 ≤ n ≤ 100\n",
        "# 1 ≤ arr1[j] ≤ 120\n",
        "\n",
        "# Input Format For Custom Testing:\n",
        "\n",
        "# The first line contains an integer, n, the number of elements in arr1.\n",
        "# Each line j of the n subsequent lines (where 1 ≤ j ≤ n) contains an integer, arr1[j].\n",
        "\n",
        "# Sample Case 0\n",
        "\n",
        "# Sample Input For Custom Testing\n",
        "# STDIN    Function\n",
        "# -----    --------\n",
        "# 5    →   arr1[] size n = 5\n",
        "#     →   arr1 = [8,5,6,7,9]\n",
        "\n",
        "# Sample Output\n",
        "# [3, 4, 1, 5, 2]\n",
        "# Explanation\n",
        " \n",
        "# M = 2 × 3 × (1÷1) × 4 = 24. All other arrangements where M = 24 are numerically higher than this array, e.g. [2, 3, 1, 4] < [3, 4, 1, 2].\n",
        "\n",
        "# Sample Case 1\n",
        "# Sample Input For Custom Testing\n",
        "# STDIN    Function.\n",
        "\n",
        "# -----    --------\n",
        "\n",
        "# 2    →   arr1[] size n = 2\n",
        "#    arr1 = [8, 3]\n",
        "\n",
        "# Sample Output\n",
        "# 3\n",
        "# 8\n",
        "\n",
        "# Explanation \n",
        "# M is always 3×8 = 24, and [3, 8] < [8, 3].\n"
      ]
    },
    {
      "cell_type": "code",
      "source": [],
      "metadata": {
        "id": "YnAY6bd7DQbC"
      },
      "execution_count": null,
      "outputs": []
    },
    {
      "cell_type": "code",
      "source": [
        "def reShape(arr1):\n",
        "\n",
        "    # sort the array ascending\n",
        "\n",
        "    arr1.sort()\n",
        "\n",
        "\n",
        "    # use two pointers, multiply by lowest value in the higher\n",
        "\n",
        "    # half of the array, divide by the lowest value in the lower\n",
        "\n",
        "    # half of the array to get maximum M, minimum order\n",
        "\n",
        "    num = len(arr1)\n",
        "    high = (num-1)//2\n",
        "    lowest = 0  \n",
        "\n",
        "    # initialize with the first element in the higher half\n",
        "\n",
        "    # after this, the operations flip between arr1[num] and 1/arr1[num]\n",
        "    reset = [arr1[high]]\n",
        "    high += 1\n",
        "    for j in range(1,num):\n",
        "        if j%2:\n",
        "            reset.append(arr1[high])\n",
        "            high += 1\n",
        "        else:\n",
        "            reset.append(arr1[lowest])\n",
        "            lowest += 1\n",
        "    return reset\n"
      ],
      "metadata": {
        "id": "l4RP-EBdwWRl"
      },
      "execution_count": null,
      "outputs": []
    },
    {
      "cell_type": "code",
      "source": [
        "reShape([5,6,7,8,9])"
      ],
      "metadata": {
        "colab": {
          "base_uri": "https://localhost:8080/"
        },
        "id": "WT5M0f3YxmCe",
        "outputId": "3d876904-3e47-46ca-ed05-541686b4017f"
      },
      "execution_count": null,
      "outputs": [
        {
          "output_type": "execute_result",
          "data": {
            "text/plain": [
              "[7, 8, 5, 9, 6]"
            ]
          },
          "metadata": {},
          "execution_count": 29
        }
      ]
    },
    {
      "cell_type": "code",
      "source": [
        "reShape([1,2,3,4,5])"
      ],
      "metadata": {
        "colab": {
          "base_uri": "https://localhost:8080/"
        },
        "id": "qCD6Dp-Sv3Ha",
        "outputId": "6c017c2d-2599-4dbb-8af8-3b7f20662761"
      },
      "execution_count": null,
      "outputs": [
        {
          "output_type": "execute_result",
          "data": {
            "text/plain": [
              "[3, 4, 1, 5, 2]"
            ]
          },
          "metadata": {},
          "execution_count": 27
        }
      ]
    },
    {
      "cell_type": "code",
      "source": [
        "8 * 9 * (1/5) * 10 * (1/7) "
      ],
      "metadata": {
        "colab": {
          "base_uri": "https://localhost:8080/"
        },
        "id": "-9I7b3XxxprW",
        "outputId": "5f54927e-cd6c-4633-bfbc-8c9a6e159be0"
      },
      "execution_count": null,
      "outputs": [
        {
          "output_type": "execute_result",
          "data": {
            "text/plain": [
              "20.57142857142857"
            ]
          },
          "metadata": {},
          "execution_count": 12
        }
      ]
    },
    {
      "cell_type": "code",
      "source": [
        "# M = arr1[1] × arr1[2] × (1 ÷ arr1[3])× arr1[4] ×...× arr1[n-1] × (1 ÷ arr1[n]) if n is odd\n",
        "# or\n",
        "# M = arr1[1] × arr1[2] × ( 1 ÷ arr1[3]) × arr1[4]×...× (1 ÷ arr1[n-1]) × arr1[n] if n is even\n",
        "\n",
        "# [5,7,9,21,34]"
      ],
      "metadata": {
        "id": "Re8ZWKMkhHo7"
      },
      "execution_count": null,
      "outputs": []
    },
    {
      "cell_type": "code",
      "source": [
        "# 22. Keyboard\n",
        "# Everytime, to enter their classroom, Students of a College have to type a  numbers into a console using a 3 × 3 numeric keypad. \n",
        "# Each time, the numbers on the keypad are mixed up.\n",
        "  \n",
        "# Use the following rules to calculate the total amount of time it takes to type a string:\n",
        "\n",
        "# It takes 0 seconds to move their finger to the first key, and it takes 0 seconds to press the key where \n",
        "# their finger is located any number of times.\n",
        "# They can move their finger from one location to any adjacent key in one second.  Adjacent keys include those on a diagonal.\n",
        "# Moving to a non-adjacent key is done as a series of moves to adjacent keys.\n"
      ],
      "metadata": {
        "id": "C4J-jCL0j9q_"
      },
      "execution_count": null,
      "outputs": []
    },
    {
      "cell_type": "code",
      "source": [
        "def entryTime(s, keypad):\n",
        "    # generate a list of cell coordinates\n",
        "    cells = [(i,j) for i in range(3) for j in range(3)]\n",
        "    # create a 9x9 array to hold distances (key from/to are coordinates)\n",
        "    dis = [[0]*9for x in range(9)]\n",
        "    # convert the elements to integer\n",
        "    keypad = list(map(int, keypad))\n",
        "    \n",
        "    # calculate distances\n",
        "    for u in cells:\n",
        "        for v in cells:\n",
        "            number1 = keypad[u[0] * 3 + u[1]]\n",
        "            number2 = keypad[v[0] * 3 + v[1]]\n",
        "            dis[number1-1][number2-1] = max(abs(u[0] - v[0]), abs(u[1] - v[1]))    # distance between two cells\n",
        "    # sum the results\n",
        "    ans = 0\n",
        "    for i in range(1, len(s)):      \n",
        "        ans += dis[int(s[i])-1][int(s[i-1])-1]\n",
        "    return ans\n"
      ],
      "metadata": {
        "id": "DAoLNmM9oe-u"
      },
      "execution_count": null,
      "outputs": []
    },
    {
      "cell_type": "code",
      "source": [
        "entryTime(\"12356\", \"987612354\")"
      ],
      "metadata": {
        "colab": {
          "base_uri": "https://localhost:8080/"
        },
        "id": "8HkqJHX_gElB",
        "outputId": "c630ee99-6baa-430d-ded9-a8fd333e7834"
      },
      "execution_count": null,
      "outputs": [
        {
          "output_type": "execute_result",
          "data": {
            "text/plain": [
              "5"
            ]
          },
          "metadata": {},
          "execution_count": 17
        }
      ]
    },
    {
      "cell_type": "code",
      "source": [
        "# with the help of the dictionary\n",
        "def entryTime(s, keypad):\n",
        "    dis = {}             # dictionary to store distance between each pair of keys\n",
        "    cells = [(i,j) for i in range(3) for j in range(3)]\n",
        "    for u in cells:\n",
        "        for v in cells:\n",
        "            number1 = keypad[u[0] * 3 + u[1]]\n",
        "            number2 = keypad[v[0] * 3 + v[1]]\n",
        "            dis[(number1,number2)] = max(abs(u[0] - v[0]), abs(u[1] - v[1]))    # distance between two cells\n",
        "    ans = 0\n",
        "    for i in range(1, len(s)):      # iterating over adjacent keys\n",
        "        ans += dis[(s[i],s[i-1])]\n",
        "    return ans\n"
      ],
      "metadata": {
        "id": "EG1i9rM8gRYB"
      },
      "execution_count": null,
      "outputs": []
    },
    {
      "cell_type": "code",
      "source": [
        "entryTime(\"123112\",\"123987654\")\n",
        "\n",
        "\n",
        "\n"
      ],
      "metadata": {
        "colab": {
          "base_uri": "https://localhost:8080/"
        },
        "id": "EpVlqt3VgkRv",
        "outputId": "6670c51c-eaf2-4a38-ea89-23e25e078caf"
      },
      "execution_count": null,
      "outputs": [
        {
          "output_type": "execute_result",
          "data": {
            "text/plain": [
              "5"
            ]
          },
          "metadata": {},
          "execution_count": 24
        }
      ]
    },
    {
      "cell_type": "code",
      "source": [],
      "metadata": {
        "id": "Xk6d6G9mkUc-"
      },
      "execution_count": null,
      "outputs": []
    },
    {
      "cell_type": "code",
      "source": [
        "def originalMatrix(matrix):\n",
        "    x = len(matrix)\n",
        "    y = len(matrix[0])\n",
        "    \n",
        "    for i in range(x-1, -1, -1):\n",
        "        for j in range(y-1, -1, -1):\n",
        "            if i-1 >= 0 and j-1 >= 0:\n",
        "                matrix[i][j] = matrix[i][j] - matrix[i-1][j] - matrix[i][j-1] + matrix[i-1][j-1]\n",
        "            elif j-1 >= 0:\n",
        "                matrix[i][j] -= matrix[i][j-1]\n",
        "            elif i-1 >= 0:\n",
        "                matrix[i][j] -= matrix[i-1][j]\n",
        "                \n",
        "    return matrix"
      ],
      "metadata": {
        "id": "o1wkeGXDq0ue"
      },
      "execution_count": null,
      "outputs": []
    },
    {
      "cell_type": "code",
      "source": [
        "originalMatrix([[2,5],[7,10]])"
      ],
      "metadata": {
        "colab": {
          "base_uri": "https://localhost:8080/"
        },
        "id": "K13Rq31Jjqar",
        "outputId": "9fc048ef-b1b2-4f85-9f2f-2e1215332b23"
      },
      "execution_count": null,
      "outputs": [
        {
          "output_type": "stream",
          "name": "stdout",
          "text": [
            "2 2\n",
            "0\n"
          ]
        },
        {
          "output_type": "execute_result",
          "data": {
            "text/plain": [
              "[[2, 3], [5, 0]]"
            ]
          },
          "metadata": {},
          "execution_count": 6
        }
      ]
    },
    {
      "cell_type": "code",
      "source": [
        "def print_matrix(mat):\n",
        "    m = len(mat)\n",
        "    n = len(mat[0])\n",
        "    #print(n)\n",
        "    for i in range(m-1,-1,-1):\n",
        "     # print(i)\n",
        "      for j in range(n-1,0,-1):\n",
        "        mat[i][j] -= mat[i][j-1]\n",
        "    \n",
        "    for i in range(m-1,0,-1):\n",
        "        for j in range(n-1,-1,-1):\n",
        "            mat[i][j] -= mat[i-1][j]\n",
        "    \n",
        "    return mat"
      ],
      "metadata": {
        "id": "sJUTS6o0jzC3"
      },
      "execution_count": null,
      "outputs": []
    },
    {
      "cell_type": "code",
      "source": [
        "print_matrix([[2,5],[7,10]])"
      ],
      "metadata": {
        "id": "hp2lhDasnTIG",
        "colab": {
          "base_uri": "https://localhost:8080/"
        },
        "outputId": "21da8700-90b2-41a8-8843-3ee943e004bf"
      },
      "execution_count": null,
      "outputs": [
        {
          "output_type": "stream",
          "name": "stdout",
          "text": [
            "2\n",
            "1\n",
            "0\n"
          ]
        },
        {
          "output_type": "execute_result",
          "data": {
            "text/plain": [
              "[[2, 3], [5, 0]]"
            ]
          },
          "metadata": {},
          "execution_count": 6
        }
      ]
    },
    {
      "cell_type": "code",
      "source": [
        "# 24. Count String Permutations\n",
        "# Find the number of strings of a given length that can be formed under the following rules:\n",
        "# Each letter is a vowel, that is, it is in the set {a, e, i, o, u}.\n",
        "# The letter a may only be followed by the letter e.\n",
        "# An e may only be followed by an a or an i.\n",
        "# An i may not be next to another i.\n",
        "# The letter o may only be followed by an i or a u.\n",
        "# The letter u may only be followed by an a."
      ],
      "metadata": {
        "id": "9E5sDTsXnqME"
      },
      "execution_count": null,
      "outputs": []
    },
    {
      "cell_type": "code",
      "source": [
        "def countPerms(n):\n",
        "    vowels = \"aeiou\"\n",
        "    #Creating a dp hashmap corresponding to the total possible number of strings ending at a,e,i,o,u\n",
        "    dp={}\n",
        "    for i in vowels:\n",
        "        dp[i] = 1\n",
        "        \n",
        "    #Refactored the rules to get characters that a particular vowel can come after \n",
        "    for i in range(1,n):\n",
        "        temp={}\n",
        "        temp['a'] = dp['e'] + dp['i'] + dp['u']\n",
        "        temp['e'] = dp['a'] + dp['i']\n",
        "        temp['i'] = dp['e'] + dp['o']\n",
        "        temp['o'] = dp['i']\n",
        "        temp['u'] = dp['i'] + dp['o']\n",
        "        \n",
        "        dp=temp\n",
        "    print(dp)\n",
        "    ret = 0\n",
        "    #Taking sum of n length strings ending at each vowel\n",
        "    for i in dp:\n",
        "        ret += dp[i]\n",
        "\n",
        "\n",
        "    return ret\n"
      ],
      "metadata": {
        "id": "TNny7RVFFdyr"
      },
      "execution_count": null,
      "outputs": []
    },
    {
      "cell_type": "code",
      "source": [
        "countPerms(3)"
      ],
      "metadata": {
        "colab": {
          "base_uri": "https://localhost:8080/"
        },
        "id": "1zym3ohaK73n",
        "outputId": "75d67cb0-68ef-4d2a-eb41-df716cc3c656"
      },
      "execution_count": null,
      "outputs": [
        {
          "output_type": "stream",
          "name": "stdout",
          "text": [
            "{'a': 6, 'e': 5, 'i': 3, 'o': 2, 'u': 3}\n"
          ]
        },
        {
          "output_type": "execute_result",
          "data": {
            "text/plain": [
              "19"
            ]
          },
          "metadata": {},
          "execution_count": 12
        }
      ]
    },
    {
      "cell_type": "code",
      "source": [
        " def countVowelPermutation(n):\n",
        "\n",
        "        dp = [[0] * 5 for i in range(n)]\n",
        "\n",
        "        dp[0] = [1] * 5\n",
        "\n",
        "        for i in range(1, n):\n",
        "            dp[i][0] = dp[i - 1][1] + dp[i - 1][2] + dp[i - 1][4]\n",
        "            dp[i][1] = dp[i - 1][0] + dp[i - 1][2]\n",
        "            dp[i][2] = dp[i - 1][1] + dp[i - 1][3]\n",
        "            dp[i][3] = dp[i - 1][2]\n",
        "            dp[i][4] = dp[i - 1][2] + dp[i - 1][3]\n",
        "        print()\n",
        "\n",
        "        return sum(dp[-1]) % (10 ** 9 + 7)"
      ],
      "metadata": {
        "id": "e2HAsW5OLBpZ"
      },
      "execution_count": null,
      "outputs": []
    },
    {
      "cell_type": "code",
      "source": [
        "countVowelPermutation(3)"
      ],
      "metadata": {
        "colab": {
          "base_uri": "https://localhost:8080/"
        },
        "id": "jytMCfz3OA2O",
        "outputId": "e154103b-064c-4d1c-e442-3d593b2bda4a"
      },
      "execution_count": null,
      "outputs": [
        {
          "output_type": "execute_result",
          "data": {
            "text/plain": [
              "19"
            ]
          },
          "metadata": {},
          "execution_count": 23
        }
      ]
    },
    {
      "cell_type": "markdown",
      "source": [
        "# HackerRank Solution\n"
      ],
      "metadata": {
        "id": "osbAa5JDpXth"
      }
    },
    {
      "cell_type": "code",
      "source": [
        "# Python 3 program for the above approach\n",
        " \n",
        "# Function to find the number of\n",
        "# vowel permutations possible\n",
        "def countVowelPermutation(n):\n",
        "   \n",
        "    # To avoid the large output value\n",
        "    MOD =  1e9 + 7    #if problem constraints are large integers, only efficient algorithms can solve them in an allowed limited time.\n",
        " \n",
        "    # Initialize 2D dp array\n",
        "    dp = [[0 for i in range(5)] for j in range(n + 1)]\n",
        "     \n",
        "    # Initialize dp[1][i] as 1 since\n",
        "    # string of length 1 will consist\n",
        "    # of only one vowel in the string\n",
        "    for i in range(5):\n",
        "        dp[1][i] = 1\n",
        "     \n",
        "    # Directed graph using the\n",
        "    # adjacency matrix\n",
        "    relation = [[1],[0, 2], [0, 1, 3, 4], [2, 4],[0]]\n",
        " \n",
        "    # Iterate over the range [1, N]\n",
        "    for i in range(1, n, 1):\n",
        "       \n",
        "        # Traverse the directed graph\n",
        "        for u in range(5):\n",
        "            dp[i + 1][u] = 0\n",
        " \n",
        "            # Traversing the list\n",
        "            for v in relation[u]:\n",
        "               \n",
        "                # Update dp[i + 1][u]\n",
        "                dp[i + 1][u] += dp[i][v] % MOD\n",
        " \n",
        "    # Stores total count of permutations\n",
        "    ans = 0\n",
        "    for i in range(5):\n",
        "        ans = (ans + dp[n][i]) % MOD\n",
        " \n",
        "    # Return count of permutations\n",
        "    return int(ans)\n",
        " "
      ],
      "metadata": {
        "colab": {
          "base_uri": "https://localhost:8080/"
        },
        "id": "u0lStEqSOOxi",
        "outputId": "a8c1900c-2ac2-4501-d44b-52a8aaadbfa6"
      },
      "execution_count": null,
      "outputs": [
        {
          "output_type": "stream",
          "name": "stdout",
          "text": [
            "10\n"
          ]
        }
      ]
    },
    {
      "cell_type": "code",
      "source": [
        "def toString(List):\n",
        "    return ''.join(List)\n",
        " \n",
        "# Function to print permutations\n",
        "# of string\n",
        "# This function takes three parameters:\n",
        "# 1. String\n",
        "# 2. Starting index of the string\n",
        "# 3. Ending index of the string.\n",
        "def permute(a, l, r):\n",
        "    if l == r:\n",
        "        print (toString(a))\n",
        "    else:\n",
        "        for i in range(l, r + 1):\n",
        "            a[l],a[i] = a[i],a[l]\n",
        "            permute(a, l + 1, r)\n",
        "            # backtrack\n",
        "            a[l], a[i] = a[i], a[l]\n",
        " \n",
        "# Driver code\n",
        "string = \"\"\n",
        "n = len(string)\n",
        "a = list(string)\n",
        "permute(a, 0, n)\n",
        "# This code is contributed by Bhavya Jain\n"
      ],
      "metadata": {
        "id": "HeAfi_MeO86V",
        "colab": {
          "base_uri": "https://localhost:8080/"
        },
        "outputId": "675e7345-3da9-4f44-c693-273213df6886"
      },
      "execution_count": null,
      "outputs": [
        {
          "output_type": "stream",
          "name": "stdout",
          "text": [
            "\n"
          ]
        }
      ]
    },
    {
      "cell_type": "code",
      "source": [
        "# 10\n",
        "# Given the player names and scores for each player in a circket match, \n",
        "# store them in a nested list and print the player name(s) of any player(s) having the second last score.\n",
        "\n",
        "# Note: If there are multiple player exist with the second last score, \n",
        "# arrange their names alphabetically and print their respectiv name on a new line.\n"
      ],
      "metadata": {
        "id": "zRszayvABzGx"
      },
      "execution_count": null,
      "outputs": []
    },
    {
      "cell_type": "code",
      "source": [
        "# The arrange list of scores so the second last score is . \n",
        "# There are multiple players with that score: . \n",
        "\n",
        "# Example\n",
        "\n",
        "# records  = [[ “Dhoni”, 36]], [“Smith”, 36],[\"Virat\",67], [“Kane”, 36], [\"Rohit\",45],[\"David\",89],[\"Rashid\",32]]\n",
        "\n",
        "#Arranged alphabetically, the names are printed as:\n",
        "# Dhoni\n",
        "# Kane\n",
        "# Smith"
      ],
      "metadata": {
        "id": "ECVGPOdpzzkG"
      },
      "execution_count": null,
      "outputs": []
    },
    {
      "cell_type": "code",
      "source": [
        "# Input Format\n",
        "# The first line contains an integer, N, the number of players.\n",
        "\n",
        "# The  subsequent lines describe each players over  lines.\n",
        "\n",
        "# - The first line contains a players name.\n",
        "\n",
        "# - The second line contains their respective score."
      ],
      "metadata": {
        "id": "D3wRY3YR1ffy"
      },
      "execution_count": null,
      "outputs": []
    },
    {
      "cell_type": "code",
      "source": [
        "# Constraints:-\n",
        "\n",
        "# 2 <= N <= 10\n",
        "# Multiple player may have same scores.\n",
        "\n",
        "\n",
        "# output format: \n",
        "\n",
        "# if there are multiple player exist with the second last score, \n",
        "# arrange their names alphabetically and print their respective name on a new line.\n",
        "\n",
        "\n"
      ],
      "metadata": {
        "id": "LiQnJ86T3gWp"
      },
      "execution_count": null,
      "outputs": []
    },
    {
      "cell_type": "code",
      "source": [
        "# Sample Inout 0\n",
        "# 3\n",
        "# Dhoni\n",
        "# 23\n",
        "# Kane 32\n",
        "# 34\n",
        "# Rahul\n",
        "# 21\n",
        "\n",
        "# Sample Output :\n",
        "# Dhoni"
      ],
      "metadata": {
        "id": "GceQMTdx5Nd5"
      },
      "execution_count": null,
      "outputs": []
    },
    {
      "cell_type": "code",
      "source": [
        "Result =[]\n",
        "scorelist = []\n",
        "for _ in range(int(input())):\n",
        "    name = input()\n",
        "    score = float(input())\n",
        "    Result+=[[name,score]]\n",
        "    \n",
        "    scorelist+=[score]\n",
        "b=sorted(list(set(scorelist)))[1] \n",
        "for a,c in sorted(Result):\n",
        "    if c==b:\n",
        "        print(a)"
      ],
      "metadata": {
        "colab": {
          "base_uri": "https://localhost:8080/"
        },
        "id": "CGbLon4g4oQB",
        "outputId": "140c46e8-f711-4d20-887c-ffb22d427416"
      },
      "execution_count": null,
      "outputs": [
        {
          "output_type": "stream",
          "name": "stdout",
          "text": [
            "2\n",
            "imran\n",
            "21\n",
            "kasif\n",
            "32\n",
            "kasif\n"
          ]
        }
      ]
    },
    {
      "cell_type": "code",
      "source": [],
      "metadata": {
        "id": "SIyAncFPm2NL"
      },
      "execution_count": null,
      "outputs": []
    },
    {
      "cell_type": "code",
      "source": [
        "# 11. Create a function to find the everage percentage score of the employees whose are working in a organization.\n",
        "# The details of the employees should be stored in a dictionary. \n",
        "# The score of the particular employees stored in a array.\n",
        "\n",
        "# Example:\n",
        "# Employee Number(Integer)\n",
        "# ‘Imran’:[60, 30, 50]\n",
        "# ‘Terry’:[80, 50, 70]\n",
        "# Employee_Name = \"Terry\"\n",
        "\n",
        "# The query_name is Terry. Terry's average score is (80 + 60 + 70)/3 = 70.00\n"
      ],
      "metadata": {
        "id": "2_ook7Rd4pLY"
      },
      "execution_count": null,
      "outputs": []
    },
    {
      "cell_type": "code",
      "source": [
        "# Input Format:-\n",
        "\n",
        "# The first input contains the integer n, the number of Employees. \n",
        "# The next lines contain the names and scores of the employees, each value separated by a space. \n",
        "# The last line contains Employee Name , to find the Average."
      ],
      "metadata": {
        "id": "z8zozTXFvw7e"
      },
      "execution_count": null,
      "outputs": []
    },
    {
      "cell_type": "code",
      "source": [
        "# Constraints:-\n",
        "# 2 ≤ n ≤ 15\n",
        "# 0 ≤ scores[i] ≤ 500\n",
        "# length of the marks array."
      ],
      "metadata": {
        "id": "pyR5TbfJwk8W"
      },
      "execution_count": null,
      "outputs": []
    },
    {
      "cell_type": "code",
      "source": [
        "# Output:-\n",
        "# Print one line: The average of the scores obtained by the particular Employees correct to 2 decimal places."
      ],
      "metadata": {
        "id": "Mweu9yk6xF9G"
      },
      "execution_count": null,
      "outputs": []
    },
    {
      "cell_type": "code",
      "source": [
        "# Sample Input:-\n",
        "# 4\n",
        "# Mathur 78 68 67 89\n",
        "# Asif 60 90 63 86\n",
        "# Tony 67 89 90 65\n",
        "\n",
        "# Tony"
      ],
      "metadata": {
        "id": "FNymIqVOxhGu"
      },
      "execution_count": null,
      "outputs": []
    },
    {
      "cell_type": "code",
      "source": [
        "# Sample Output:- \n",
        "# 77.75"
      ],
      "metadata": {
        "id": "0f-7zEsTyE_2"
      },
      "execution_count": null,
      "outputs": []
    },
    {
      "cell_type": "code",
      "source": [
        "#Marks of Tony are {67 89 90 65} whose average is (67 + 89 + 90 + 65)/4 ⇒  77.75"
      ],
      "metadata": {
        "id": "IUkNlO4Cyp4N"
      },
      "execution_count": null,
      "outputs": []
    },
    {
      "cell_type": "code",
      "source": [
        "num_of_Emp = int(input(\"Enter the number of employees: \"))\n",
        "emp_Scores = {}\n",
        "for _ in range(num_of_Emp):\n",
        "    empName, *line = input().split()\n",
        "    scores = list(map(float, line))\n",
        "    emp_Scores[empName] = scores\n",
        "EName_for_average = input(\"Enter the name of the Employees for getting the average: \")\n",
        "output = list(emp_Scores[EName_for_average])    \n",
        "per = sum(output)/len(output)\n",
        "print(\"%.2f\" % per)"
      ],
      "metadata": {
        "colab": {
          "base_uri": "https://localhost:8080/"
        },
        "id": "vWywZ1ucy8dx",
        "outputId": "b4adea6e-9d4c-4d7d-c696-7d7d10dae9e0"
      },
      "execution_count": null,
      "outputs": [
        {
          "output_type": "stream",
          "name": "stdout",
          "text": [
            "Enter the number of employees: 2\n",
            "imran 56 78 98 90\n",
            "murad 56 76 44 90\n",
            "Enter the name of the Employees for getting the average: murad\n",
            "66.50\n"
          ]
        }
      ]
    },
    {
      "cell_type": "code",
      "source": [
        "# 12. Consider a array and perform following operations\n",
        "\n",
        "# insert i n: Insert integer at position .\n",
        "# print: Print the array.\n",
        "# remove n: Delete the first element of the array .\n",
        "# append n: add a number at the end of the array.\n",
        "# sort: perform sorting into the array.\n",
        "# pop: delete the last element from the array.\n",
        "# reverse: Perform reverse operation into the array.\n",
        "\n",
        "\n",
        "# Initialize your array and perform in the value of followed by  lines of commands where each command will be of the  types listed above.\n",
        "# Perfrom the looping through each command in order and perform the respective operation on array.\n",
        "\n"
      ],
      "metadata": {
        "id": "Bt5c9kHuzJMZ"
      },
      "execution_count": null,
      "outputs": []
    },
    {
      "cell_type": "code",
      "source": [
        "# Input Format :\n",
        "# First line is for number of operation(num) in the array.\n",
        "# Each line i of the n subsequent lines contains one of the operation.\n",
        "\n",
        "# Constraints :\n",
        "# 2 <= num >= 100 \n",
        "# The array element should be integer.\n",
        "\n",
        "# Output Format :\n",
        "# Print all the opeartion in a new line"
      ],
      "metadata": {
        "id": "RFPQg6vN_dN_"
      },
      "execution_count": null,
      "outputs": []
    },
    {
      "cell_type": "code",
      "source": [
        "# Sample Input:\n",
        "\n",
        "# 9\n",
        "# insert 0 6\n",
        "# append 67\n",
        "# insert 1 90\n",
        "# print\n",
        "\n",
        "# remove 6\n",
        "# append 21\n",
        "# sort \n",
        "# reverse\n",
        "# print\n",
        "\n",
        "\n",
        "# Sample Output:\n",
        "# [6, 90, 67]\n",
        "# [90, 67, 21]"
      ],
      "metadata": {
        "id": "etJRnPZNDUdZ"
      },
      "execution_count": null,
      "outputs": []
    },
    {
      "cell_type": "code",
      "source": [
        "num = int(input()) # Number of element in the array\n",
        "array = []\n",
        "for i in range(0,num):\n",
        "    ops = input().split()\n",
        "    if ops[0] == \"print\":\n",
        "        print(array)\n",
        "    elif ops[0] == \"insert\":\n",
        "        array.insert(int(ops[1]),int(ops[2]))\n",
        "    elif ops[0] == \"remove\":\n",
        "        array.remove(int(ops[1]))\n",
        "    elif ops[0] == \"pop\":\n",
        "        array.pop()\n",
        "    elif ops[0] == \"append\":\n",
        "        array.append(int(ops[1]))\n",
        "    elif ops[0] == \"sort\":\n",
        "        array.sort()\n",
        "    elif ops[0] == \"reverse\":\n",
        "        array.reverse()\n",
        "    else:\n",
        "      print(array)\n"
      ],
      "metadata": {
        "colab": {
          "base_uri": "https://localhost:8080/"
        },
        "id": "p1bbcOKp_4Co",
        "outputId": "4bdf71ab-b297-4c8d-983d-709396640fe7"
      },
      "execution_count": null,
      "outputs": [
        {
          "output_type": "stream",
          "name": "stdout",
          "text": [
            "9\n",
            "insert 0 6\n",
            "append 67\n",
            "insert 1 90\n",
            "print\n",
            "[6, 90, 67]\n",
            "remove 6\n",
            "append 21\n",
            "sort \n",
            "reverse\n",
            "print\n",
            "[90, 67, 21]\n"
          ]
        }
      ]
    },
    {
      "cell_type": "code",
      "source": [],
      "metadata": {
        "id": "ED7i-4wIA1vF"
      },
      "execution_count": null,
      "outputs": []
    },
    {
      "cell_type": "code",
      "source": [
        "# 13.  Write the statements for getting the hash value of a tuple.\n",
        "# The element of the tuple should be user defined seperatd by space and integer value.\n",
        "\n",
        "# Note:- No need to import hash() function. Because it is already exist in python __builtins__ module."
      ],
      "metadata": {
        "id": "DQmo35PLERCf"
      },
      "execution_count": null,
      "outputs": []
    },
    {
      "cell_type": "code",
      "source": [
        "# Input format:\n",
        "\n",
        "# Give the number of element(num) into the tuples.\n",
        "# The element in the tuple sholud be integers seperated by space.\n",
        "\n",
        "# Constraints:\n",
        "# 0< num <=20\n",
        "\n",
        "# Output format:\n",
        "# print the hash value of the tuple\n"
      ],
      "metadata": {
        "id": "Ab5Zrb2jGAJT"
      },
      "execution_count": null,
      "outputs": []
    },
    {
      "cell_type": "code",
      "source": [
        "# Sample input:\n",
        "# 3\n",
        "# 6 3 2"
      ],
      "metadata": {
        "id": "ANgFeOFvJMxV"
      },
      "execution_count": null,
      "outputs": []
    },
    {
      "cell_type": "code",
      "source": [
        "# Sample Output:\n",
        "# 8834508147245472632"
      ],
      "metadata": {
        "id": "v4l0CegdJWku"
      },
      "execution_count": null,
      "outputs": []
    },
    {
      "cell_type": "code",
      "source": [
        "n = int(input()) \n",
        "integer_list = map(int, input().split()) \n",
        "i = tuple(integer_list)\n",
        "print(hash(i))\n",
        "#print(hash(tuple((integer_list)))) # hash value is the numeric code for uniquely identify the data \n"
      ],
      "metadata": {
        "colab": {
          "base_uri": "https://localhost:8080/"
        },
        "id": "6pNTJ0RVJX0s",
        "outputId": "43c869cb-f5cb-4594-ac0a-0e6c2a89fc6a"
      },
      "execution_count": null,
      "outputs": [
        {
          "output_type": "stream",
          "name": "stdout",
          "text": [
            "2\n",
            "9 7\n",
            "3713072971711677631\n"
          ]
        }
      ]
    },
    {
      "cell_type": "code",
      "source": [
        "# 14. Create a function for convert the case of the string.\n",
        "# All the uppercase letters should be converted into the lowercase and vice versa. \n"
      ],
      "metadata": {
        "id": "pcFKomGgJhgD"
      },
      "execution_count": null,
      "outputs": []
    },
    {
      "cell_type": "code",
      "source": [
        "# Input Format\n",
        "# Input the string s\n",
        "\n",
        "# Constraints\n",
        "# 0 <= len(s) <= 10^5\n",
        "\n",
        "# Output Format\n",
        "# print the converted string from one case to another case."
      ],
      "metadata": {
        "id": "q8j3sTHiLUd0"
      },
      "execution_count": null,
      "outputs": []
    },
    {
      "cell_type": "code",
      "source": [
        "# sample Input:\n",
        "\n",
        "# PythoN is EasY to LeArN\n",
        "\n",
        "# Sample output:\n",
        "\n",
        "# pYTHOn IS eASy TO lEaRn"
      ],
      "metadata": {
        "id": "G0JM6YFDLttB"
      },
      "execution_count": null,
      "outputs": []
    },
    {
      "cell_type": "code",
      "source": [
        "# 1st way\n",
        "def con_case(string):\n",
        "    output = string.swapcase()\n",
        "    return output\n",
        "\n",
        "string = input()\n",
        "output = con_case(string)\n",
        "print(output)"
      ],
      "metadata": {
        "colab": {
          "base_uri": "https://localhost:8080/"
        },
        "id": "fHKo4rjtMaC3",
        "outputId": "ce5c0006-97bf-4964-b40c-098c729a7c56"
      },
      "execution_count": null,
      "outputs": [
        {
          "output_type": "stream",
          "name": "stdout",
          "text": [
            "PythoN is EasY to LeArN\n",
            "pYTHOn IS eASy TO lEaRn\n"
          ]
        }
      ]
    },
    {
      "cell_type": "code",
      "source": [
        "# 2nd Way: \n",
        "def swap_case(string):\n",
        "    output = \"\"\n",
        "    for i in string:\n",
        "        if i.isupper() == True:\n",
        "            output += (i.lower())\n",
        "        else:\n",
        "            output += (i.upper())\n",
        "    return output\n",
        "\n",
        "string = input()\n",
        "result = swap_case(string)\n",
        "print(result)"
      ],
      "metadata": {
        "colab": {
          "base_uri": "https://localhost:8080/"
        },
        "id": "4BxqApb4Ma1V",
        "outputId": "35b1c8e1-5371-415e-9933-edc2d40500d5"
      },
      "execution_count": null,
      "outputs": [
        {
          "output_type": "stream",
          "name": "stdout",
          "text": [
            " Python is dynaMicAlly-typEd anD garbaGe-Collected. \n",
            " pYTHON IS DYNAmICaLLY-TYPeD ANd GARBAgE-cOLLECTED. \n"
          ]
        }
      ]
    },
    {
      "cell_type": "code",
      "source": [
        "# 3rd way:- \n",
        "def swap_case(string):\n",
        "    result = []\n",
        "    for letter in string:\n",
        "        if letter == letter.lower():\n",
        "            result.append(letter.upper())\n",
        "        elif letter == letter.upper():\n",
        "            result.append(letter.lower())\n",
        "        else:\n",
        "            result.append(letter)\n",
        "    return \"\".join(result)\n",
        "\n",
        "string = input()\n",
        "result = swap_case(string)\n",
        "print(result)"
      ],
      "metadata": {
        "colab": {
          "base_uri": "https://localhost:8080/"
        },
        "id": "hqBk3yy0OCWw",
        "outputId": "7acc9b51-dfa0-4904-ce40-87efe1be8e70"
      },
      "execution_count": null,
      "outputs": [
        {
          "output_type": "stream",
          "name": "stdout",
          "text": [
            "khsdjg JHgHGFGH kjshdjbhj \n",
            "KHSDJG jhGhgfgh KJSHDJBHJ \n"
          ]
        }
      ]
    },
    {
      "cell_type": "code",
      "source": [
        "# 16. Create st function to join and split the string.\n",
        "# First split with space (\" \") the string then join the string with the hyphen(-).\n",
        "\n",
        "# Example: \n",
        "# st = input()\n",
        "# st = st.split(\" \") # st is converted to st list of strings. \n",
        "# i am going to market\n",
        "# ['i', 'am', 'going', 'to', 'market']\n",
        "\n",
        "# st = input()\n",
        "# st = \"-\".join(st)\n",
        "# i-am-going-to-market\n",
        "\n"
      ],
      "metadata": {
        "id": "-voE6pV9ORsE"
      },
      "execution_count": null,
      "outputs": []
    },
    {
      "cell_type": "code",
      "source": [
        "# Input Format:\n",
        "# Write the string in a line.\n",
        "\n",
        "# Output Format:\n",
        "# Print the formatted string as explained above.\n"
      ],
      "metadata": {
        "id": "RHjq9XWYQny6"
      },
      "execution_count": null,
      "outputs": []
    },
    {
      "cell_type": "code",
      "source": [
        "# Sample Input:\n",
        "# Python is high level programming language\n",
        "\n",
        "# Sample Output:\n",
        "# Python-is-high-level-programming-language"
      ],
      "metadata": {
        "id": "Km2YVv1QUerz"
      },
      "execution_count": null,
      "outputs": []
    },
    {
      "cell_type": "code",
      "source": [
        "def split_and_join(line):\n",
        "    line = line.split(\" \")\n",
        "    line = \"-\".join(line)\n",
        "    return line\n",
        "\n",
        "line = input()\n",
        "result = split_and_join(line)\n",
        "print(result)"
      ],
      "metadata": {
        "colab": {
          "base_uri": "https://localhost:8080/"
        },
        "id": "sBF8EXutRUv4",
        "outputId": "0c24269c-8731-415a-c7ad-d9002f372570"
      },
      "execution_count": null,
      "outputs": [
        {
          "output_type": "stream",
          "name": "stdout",
          "text": [
            "Python is high level programming language\n",
            "Python-is-high-level-programming-language\n"
          ]
        }
      ]
    },
    {
      "cell_type": "code",
      "source": [
        "# 17-----------------------\n",
        "# Create a python function which will accept two parameter as string, player name and his score.\n",
        "# That function should read and print as a following.\n",
        "\n",
        "# Hi playerName, your score is Score, Congratulation! You are the best scorer."
      ],
      "metadata": {
        "id": "TOwXTEYwUNly"
      },
      "execution_count": null,
      "outputs": []
    },
    {
      "cell_type": "code",
      "source": [
        "# Input Format:-\n",
        "# The first line contains the playerName, and the second line contains the Score.\n",
        "\n",
        "# Constraints:-\n",
        "# The length of the playerNamer and Score ≤ 10.\n",
        "\n",
        "# Output Format:-\n",
        "# Print the output as mentioned above."
      ],
      "metadata": {
        "id": "uDGpEWmptSSB"
      },
      "execution_count": null,
      "outputs": []
    },
    {
      "cell_type": "code",
      "source": [
        "# Sample Input 0\n",
        "\n",
        "# Imran\n",
        "# 89"
      ],
      "metadata": {
        "id": "nWzkUJsixzVB"
      },
      "execution_count": null,
      "outputs": []
    },
    {
      "cell_type": "code",
      "source": [
        "# Sample Output 0\n",
        "# Hi imran, your score is 90, Congratulation! You are the best scorer."
      ],
      "metadata": {
        "id": "H6VOPN4sx52D"
      },
      "execution_count": null,
      "outputs": []
    },
    {
      "cell_type": "code",
      "source": [
        "def print_full_name(playerName, score):\n",
        "    print(\"Hi \" + playerName +\", your score is \"+ score + \", Congratulation! You are the best scorer.\")\n",
        "\n",
        "\n",
        "playerName = input()\n",
        "score = input()\n",
        "print_full_name(playerName, score)"
      ],
      "metadata": {
        "colab": {
          "base_uri": "https://localhost:8080/"
        },
        "id": "SWRfkeVKyUuD",
        "outputId": "526d2fd2-2d9a-4a02-b8f1-9b18a3afcae8"
      },
      "execution_count": null,
      "outputs": [
        {
          "output_type": "stream",
          "name": "stdout",
          "text": [
            "Imran\n",
            "67\n",
            "Hi Imran, your score is 67, Congratulation! You are the best scorer.\n"
          ]
        }
      ]
    },
    {
      "cell_type": "code",
      "source": [
        "# 18. Create a function to perform changes into the string.\n",
        "# As we know that strong in immutable(unchangable).\n",
        "# You can access the string by indexing.\n",
        "\n",
        "# st = India\n",
        "# st[3]\n",
        "# output: i\n",
        "# we can perform chnages into the string.\n",
        "# st[3] = d\n",
        "# It'll through the error.\n",
        "\n",
        "# we can perform this operation after converting the string into the list.\n"
      ],
      "metadata": {
        "id": "Ufn3BsuqzSNd"
      },
      "execution_count": null,
      "outputs": []
    },
    {
      "cell_type": "code",
      "source": [
        "# Input Format\n",
        "# Start with the user defined input as a string.\n",
        "\n",
        "# Then give the input as integer for the index value and single character should by separated by a space.\n",
        "\n",
        "# constraints:-\n",
        "# 2 <= len(string) >= 100\n",
        "\n",
        "# Output Format:\n",
        "# replace the character at index i with new character.\n",
        "\n",
        "\n",
        "# Sample Input\n",
        "\n",
        "# PythonAndJava\n",
        "# 6 a\n",
        "# Sample Output\n",
        "\n",
        "# PythonandJava"
      ],
      "metadata": {
        "id": "sYLXymi-4ez7"
      },
      "execution_count": null,
      "outputs": []
    },
    {
      "cell_type": "code",
      "source": [
        "# Mutations in Python - HackerRank Solution\n",
        "def mutate_string(string, position, character):\n",
        "    # Mutations in Python - HackerRank Solution START\n",
        "    l = list(string)\n",
        "    l[position] = character;\n",
        "    string = ''.join(l);\n",
        "    return string\n",
        "    # Mutations in Python - HackerRank Solution END\n",
        "if __name__ == '__main__':\n",
        "    s = input()\n",
        "    i, c = input().split()\n",
        "    s_new = mutate_string(s, int(i), c)\n",
        "    print(s_new)"
      ],
      "metadata": {
        "colab": {
          "base_uri": "https://localhost:8080/"
        },
        "id": "PLhrWFZk7166",
        "outputId": "e39d68c7-4bce-46fa-c44c-18be35641608"
      },
      "execution_count": null,
      "outputs": [
        {
          "output_type": "stream",
          "name": "stdout",
          "text": [
            "PythonAndJava\n",
            "6 a\n",
            "PythonandJava\n"
          ]
        }
      ]
    },
    {
      "cell_type": "code",
      "source": [
        "def mutate_string(string, position, character):\n",
        "    # Mutations in Python - HackerRank Solution START\n",
        "    pos = position+1\n",
        "    Output = string[:position] + character + string[pos:]\n",
        "    return Output\n",
        "    # Mutations in Python - HackerRank Solution END\n",
        "\n",
        "if __name__ == '__main__':\n",
        "    s = input()\n",
        "    i, c = input().split()\n",
        "    s_new = mutate_string(s, int(i), c)\n",
        "    print(s_new)"
      ],
      "metadata": {
        "colab": {
          "base_uri": "https://localhost:8080/"
        },
        "id": "MNpaiE4q766R",
        "outputId": "bd5dc1ef-43e6-42fe-f61d-72f356981921"
      },
      "execution_count": null,
      "outputs": [
        {
          "output_type": "stream",
          "name": "stdout",
          "text": [
            "78\n",
            "1 7\n",
            "77\n"
          ]
        }
      ]
    },
    {
      "cell_type": "code",
      "source": [
        "# 19. Create a function which will accept two arguements as string and subString.\n",
        "# The function should return the number of counts that the substring occurs in the string\n",
        "# Access the elements of the String from left to right, not from g=right to left.\n",
        "\n",
        "# NOTE: String elements are case-sensitive."
      ],
      "metadata": {
        "id": "-JiA58Pr8j4K"
      },
      "execution_count": null,
      "outputs": []
    },
    {
      "cell_type": "code",
      "source": [
        "# Input Format :\n",
        "# Enter the original string\n",
        "# Then enter the subString.\n",
        "\n",
        "# Constraints :\n",
        "# 2 <= len(string)<= 400\n",
        "# Each character in the string is an ascii character.(American standard code for information interchange)\n",
        "\n",
        "# Output Format :\n",
        "# total conut of the occurrences of the substing in the Original String.  "
      ],
      "metadata": {
        "id": "3Fg9V_Fi_niM"
      },
      "execution_count": null,
      "outputs": []
    },
    {
      "cell_type": "code",
      "source": [
        "# Sample Input:\n",
        "# abbabbhab\n",
        "# ab\n",
        "\n",
        "# Sample Output:\n",
        "# 3"
      ],
      "metadata": {
        "id": "wgaB47U2B7Bc"
      },
      "execution_count": null,
      "outputs": []
    },
    {
      "cell_type": "code",
      "source": [
        "# Find a string in Python - HackerRank Solution\n",
        "def count_substring(string, sub_string):\n",
        "    # Find a string in Python - Hacker Rank Solution START\n",
        "    count = 0\n",
        "    for i in range(len(string)-len(sub_string)+1):\n",
        "        if (string[i:i+len(sub_string)] == sub_string):\n",
        "            count += 1\n",
        "    return count\n",
        "    # Find a string in Python - HackerRank Solution END\n",
        "if __name__ == '__main__':\n",
        "    string = input().strip()\n",
        "    sub_string = input().strip()\n",
        "    \n",
        "    count = count_substring(string, sub_string)\n",
        "    print(count)"
      ],
      "metadata": {
        "colab": {
          "base_uri": "https://localhost:8080/"
        },
        "id": "l7dx8e6_BArM",
        "outputId": "75f94503-fdcf-4d77-c068-9e1b86680167"
      },
      "execution_count": null,
      "outputs": [
        {
          "output_type": "stream",
          "name": "stdout",
          "text": [
            "anand_ansu_amar_imran\n",
            "an\n",
            "4\n"
          ]
        }
      ]
    },
    {
      "cell_type": "code",
      "source": [
        "def count_substring(string, sub_string):\n",
        "\n",
        "    count = 0\n",
        "    i = string.find(sub_string)\n",
        "\n",
        "    while i != -1:\n",
        "      count +=1\n",
        "      i = string.find(sub_string, i+1)\n",
        "    return count\n",
        "\n",
        "\n",
        "string = input().strip()\n",
        "sub_string = input().strip()\n",
        "\n",
        "count = count_substring(string, sub_string)\n",
        "print(count)  \n"
      ],
      "metadata": {
        "colab": {
          "base_uri": "https://localhost:8080/"
        },
        "id": "MDkIZTJLBNQc",
        "outputId": "a917c456-169c-4715-c720-cfaf5f62c6ba"
      },
      "execution_count": null,
      "outputs": [
        {
          "output_type": "stream",
          "name": "stdout",
          "text": [
            "yuyuyuuy\n",
            "uy\n",
            "3\n"
          ]
        }
      ]
    },
    {
      "cell_type": "code",
      "source": [
        "s = \"Imranmnmbm\"\n",
        "s1 = \"m\"\n",
        "s2 = s.find(s1)\n",
        "print(s2)\n",
        "\n",
        "s3 = s.find(s1, s2+1)\n",
        "print(s3)"
      ],
      "metadata": {
        "colab": {
          "base_uri": "https://localhost:8080/"
        },
        "id": "6TIG4hMeg5Fo",
        "outputId": "1bc6887e-c7dd-48a3-a43c-5e0c5201c3e8"
      },
      "execution_count": null,
      "outputs": [
        {
          "output_type": "stream",
          "name": "stdout",
          "text": [
            "1\n",
            "5\n"
          ]
        }
      ]
    },
    {
      "cell_type": "code",
      "source": [
        "#20 String Validator:-\n",
        "\n",
        "# Write the python code for validate the string by following conditions.\n",
        "# The string is containing alphanumerical characters, alphabetical characters, digits, lowercase and uppercase characters. if yes then print True, else False.\n",
        "\n",
        "# Example:\n",
        "# string: \"Imran56444\"\n",
        "# string.issupper()\n",
        "# False # It'll return true when all the character of the string is in upper case\n",
        "\n",
        "# string = \"IMRAN\"\n",
        "# string.issuper()\n",
        "# True\n",
        "\n",
        "\n"
      ],
      "metadata": {
        "id": "c6Dc2t3fE3jy"
      },
      "execution_count": null,
      "outputs": []
    },
    {
      "cell_type": "code",
      "source": [
        "# Input format:\n",
        "# the first line will accept the user input string.\n",
        "\n",
        "# constraints:\n",
        "# 0 < len(string) >= 10^5\n",
        "\n",
        "# Output Format:\n",
        "# print true, if the string has any alphanumeric character.\n",
        "# print true, if the string has any alphabetical character.\n",
        "# print true, if the string has any digits.\n",
        "# print true, if the string has any lowercase.\n",
        "# print true, if the string has any uppercase."
      ],
      "metadata": {
        "id": "6GeYBVQQLWlS"
      },
      "execution_count": null,
      "outputs": []
    },
    {
      "cell_type": "code",
      "source": [
        "# 1st way\n",
        "if __name__ == '__main__':\n",
        "    s = input()\n",
        "    print(any(map(str.isalnum, s)))\n",
        "    print(any(map(str.isalpha, s)))\n",
        "    print(any(map(str.isdigit, s)))\n",
        "    print(any(map(str.islower, s)))\n",
        "    print(any(map(str.isupper, s)))"
      ],
      "metadata": {
        "colab": {
          "base_uri": "https://localhost:8080/"
        },
        "id": "GHLbBwLbGZfq",
        "outputId": "604f52ec-5479-4b2c-f2ef-ab50bad978bd"
      },
      "execution_count": null,
      "outputs": [
        {
          "output_type": "stream",
          "name": "stdout",
          "text": [
            "Imran6544\n",
            "True\n",
            "True\n",
            "True\n",
            "True\n",
            "True\n"
          ]
        }
      ]
    },
    {
      "cell_type": "code",
      "source": [
        "\n",
        "# 2nd way\n",
        "if __name__ == '__main__':\n",
        "    s = input()\n",
        "    print(any(a.isalnum() for a in s) )\n",
        "    print(any(a.isalpha() for a in s) )\n",
        "    print(any(a.isdigit() for a in s) )\n",
        "    print(any(a.islower() for a in s) )\n",
        "    print(any(a.isupper() for a in s) )"
      ],
      "metadata": {
        "id": "F7zoEgkIGaXL",
        "colab": {
          "base_uri": "https://localhost:8080/"
        },
        "outputId": "5f20a6f2-6105-4f87-b686-cf4faa2f6128"
      },
      "execution_count": null,
      "outputs": [
        {
          "output_type": "stream",
          "name": "stdout",
          "text": [
            "Imran 6765\n",
            "True\n",
            "True\n",
            "True\n",
            "True\n",
            "True\n"
          ]
        }
      ]
    },
    {
      "cell_type": "code",
      "source": [
        "def stringValidate():\n",
        "    s = input()\n",
        "    print(any(a.isalnum() for a in s) )\n",
        "    print(any(a.isalpha() for a in s) )\n",
        "    print(any(a.isdigit() for a in s) )\n",
        "    print(any(a.islower() for a in s) )\n",
        "    print(any(a.isupper() for a in s) )"
      ],
      "metadata": {
        "id": "aCzHiZXPYZdo"
      },
      "execution_count": null,
      "outputs": []
    },
    {
      "cell_type": "code",
      "source": [
        "stringValidate()"
      ],
      "metadata": {
        "colab": {
          "base_uri": "https://localhost:8080/"
        },
        "id": "xELNAZ2IpCvi",
        "outputId": "abc0f41c-d50c-4a75-9b50-8ccc4b2eb7bf"
      },
      "execution_count": null,
      "outputs": [
        {
          "output_type": "stream",
          "name": "stdout",
          "text": [
            "Imran23354\n",
            "True\n",
            "True\n",
            "True\n",
            "True\n",
            "True\n"
          ]
        }
      ]
    },
    {
      "cell_type": "code",
      "source": [
        "# Task\n",
        "\n",
        "# You are given a partial code that is used for generating the HackerRank Logo of variable thickness.\n",
        "# Your task is to replace the blank (______) with rjust, ljust or center.\n",
        "\n",
        "# Input Format\n",
        "\n",
        "# A single line containing the thickness value for the logo.\n",
        "\n",
        "# Constraints\n",
        "\n",
        "# The thickness must be an odd number.\n",
        "\n",
        "# Output Format\n",
        "\n",
        "# Output the desired logo.\n",
        "\n",
        "# Sample Input"
      ],
      "metadata": {
        "id": "5jmn4D-0pE1V"
      },
      "execution_count": null,
      "outputs": []
    },
    {
      "cell_type": "code",
      "source": [
        "# Write the python code for generate a pattern for character \"H\" by using the text alignment method.\n",
        "# We have to us the text alignment methods.\n",
        "\n",
        "# rjust(): right adjust Alignment.\n",
        "\n",
        "width = 26\n",
        "print(('Hicounsler').rjust(width,'~')) # ljust(width,\"~\"): inside the ljust() we are passing two arguements widhth and character. \n",
        "# width is for the width of the string, and \"~\" is for assigning the to the empty spaces\n",
        "# ~~~~~~~~~~~~~~~~Hicounsler\n",
        "\n",
        "# ljust() : left adjust alignment.\n",
        "print(('Hicounsler').ljust(width,'~'))\n",
        "# Hicounsler~~~~~~~~~~~~~~~~\n",
        "\n",
        "# center() : center adjust alignment.\n",
        "print(('Hicounsler').center(width,'~'))\n",
        "# ~~~~~~~~Hicounsler~~~~~~~~\n",
        "\n",
        "\n"
      ],
      "metadata": {
        "colab": {
          "base_uri": "https://localhost:8080/"
        },
        "id": "IQrbYApUqsD2",
        "outputId": "d98db934-5b0b-4a8d-c029-75253bca5f3c"
      },
      "execution_count": null,
      "outputs": [
        {
          "output_type": "stream",
          "name": "stdout",
          "text": [
            "~~~~~~~~~~~~~~~~Hicounsler\n",
            "Hicounsler~~~~~~~~~~~~~~~~\n",
            "~~~~~~~~Hicounsler~~~~~~~~\n"
          ]
        }
      ]
    },
    {
      "cell_type": "code",
      "source": [
        "# Input Format:\n",
        "\n",
        "# A single line containing the width value for the character.\n",
        "\n",
        "# Constraints:\n",
        "\n",
        "# The width must be an odd number.\n",
        "\n",
        "# Output Format:\n",
        "\n",
        "# Output the desired chracter."
      ],
      "metadata": {
        "id": "FsJGxrMushXC"
      },
      "execution_count": null,
      "outputs": []
    },
    {
      "cell_type": "code",
      "source": [
        "# # Sample Input:\n",
        "# # 7\n",
        "\n",
        "\n",
        "# # Sample Output:   \n",
        "\n",
        "#       *      \n",
        "#      ***     \n",
        "#     *****    \n",
        "#    *******   \n",
        "#   *********  \n",
        "#  *********** \n",
        "# *************\n",
        "#    *******                     *******                  \n",
        "#    *******                     *******                  \n",
        "#    *******                     *******                  \n",
        "#    *******                     *******                  \n",
        "#    *******                     *******                  \n",
        "#    *******                     *******                  \n",
        "#    *******                     *******                  \n",
        "#    *******                     *******                  \n",
        "#    ***********************************    \n",
        "#    ***********************************    \n",
        "#    ***********************************    \n",
        "#    ***********************************    \n",
        "#    *******                     *******                  \n",
        "#    *******                     *******                  \n",
        "#    *******                     *******                  \n",
        "#    *******                     *******                  \n",
        "#    *******                     *******                  \n",
        "#    *******                     *******                  \n",
        "#    *******                     *******                  \n",
        "#    *******                     *******                  \n",
        "#                             ************* \n",
        "#                              ***********  \n",
        "#                               *********   \n",
        "#                                *******    \n",
        "#                                 *****     \n",
        "#                                  ***      \n",
        "#                                   *   "
      ],
      "metadata": {
        "id": "dxNAV1EWuM0h"
      },
      "execution_count": null,
      "outputs": []
    },
    {
      "cell_type": "code",
      "source": [
        "# 22.\n",
        "# Create a function to wraps a single paragraph in text and returns a single string containing the wrapped paragraph.\n",
        "\n",
        "# Example: \n",
        "# HiCounsler is a good platform for accelerate career.\n",
        "# 5\n",
        "# Output: \n",
        "\n",
        "# HiCou\n",
        "# nsler\n",
        "# is a\n",
        "# good \n",
        "# platf\n",
        "# orm\n",
        "# for a\n",
        "# ccele\n",
        "# rate \n",
        "# caree\n",
        "# r.\n"
      ],
      "metadata": {
        "id": "E1D9Jp0wq8Rj"
      },
      "execution_count": null,
      "outputs": []
    },
    {
      "cell_type": "code",
      "source": [
        "# Input format:\n",
        "# 1st line will take the user input string.\n",
        "# 2nd line will take the integer number for the size of wrapping text\n",
        "\n",
        "# constraints:\n",
        "# 0 < len(string) <=10^4\n",
        "# 0 < size(integer) < len(string)\n",
        "\n",
        "# Output format:\n",
        "# retrun the text wrapping paragraph with fixed size."
      ],
      "metadata": {
        "id": "vSRXi0xEq8P9"
      },
      "execution_count": null,
      "outputs": []
    },
    {
      "cell_type": "code",
      "source": [
        "# Sample input:\n",
        "# Python is easy to learn.\n",
        "# 3\n",
        "\n",
        "# Sample output:\n",
        "\n",
        "# Pyt\n",
        "# hon\n",
        "#  is\n",
        "#  ea\n",
        "# sy \n",
        "# to \n",
        "# lea\n",
        "# rn."
      ],
      "metadata": {
        "id": "-kxV853sq8KD"
      },
      "execution_count": null,
      "outputs": []
    },
    {
      "cell_type": "code",
      "source": [],
      "metadata": {
        "id": "qr5WiJWTq8Ia"
      },
      "execution_count": null,
      "outputs": []
    },
    {
      "cell_type": "code",
      "source": [],
      "metadata": {
        "id": "MzST0IYcq77V"
      },
      "execution_count": null,
      "outputs": []
    },
    {
      "cell_type": "code",
      "source": [],
      "metadata": {
        "id": "OZLE38Yzq7oW"
      },
      "execution_count": null,
      "outputs": []
    },
    {
      "cell_type": "code",
      "source": [
        "# 22. \n",
        "# Text Wrap in Python - HackerRank Solution\n",
        "import textwrap\n",
        "\n",
        "def wrap(string, max_width):\n",
        "    # Text Wrap in Python - HackerRank Solution START\n",
        "    return textwrap.fill(string,max_width)\n",
        "    # Text Wrap in Python - HackerRank Solution END\n",
        "\n",
        "if __name__ == '__main__':\n",
        "    string, max_width = input(), int(input())\n",
        "    result = wrap(string, max_width)\n",
        "    print(result)"
      ],
      "metadata": {
        "colab": {
          "base_uri": "https://localhost:8080/"
        },
        "id": "T95eIELzpyxJ",
        "outputId": "fe272c7f-ce11-448d-86d1-9fe54c87e9f2"
      },
      "execution_count": null,
      "outputs": [
        {
          "output_type": "stream",
          "name": "stdout",
          "text": [
            "HiCounsler is a good platform for accelerate career.\n",
            "5\n",
            "HiCou\n",
            "nsler\n",
            "is a\n",
            "good \n",
            "platf\n",
            "orm\n",
            "for a\n",
            "ccele\n",
            "rate \n",
            "caree\n",
            "r.\n"
          ]
        }
      ]
    },
    {
      "cell_type": "code",
      "source": [
        "import textwrap\n",
        "def wrap(string, max_width):\n",
        "    for i in range(0,len(string)+1,max_width):\n",
        "        result = string[i:i+max_width]\n",
        "        if len(result) == max_width:\n",
        "            print(result)\n",
        "        else:\n",
        "            return(result)\n",
        "if __name__ == '__main__':\n",
        "    string, max_width = input(), int(input())\n",
        "    result = wrap(string, max_width)\n",
        "    print(result)"
      ],
      "metadata": {
        "colab": {
          "base_uri": "https://localhost:8080/"
        },
        "id": "OF489l1SqzId",
        "outputId": "7e835f85-e530-45c0-d06f-9d89a3cf5d01"
      },
      "execution_count": null,
      "outputs": [
        {
          "output_type": "stream",
          "name": "stdout",
          "text": [
            "Python is easy to learn.\n",
            "3\n",
            "Pyt\n",
            "hon\n",
            " is\n",
            " ea\n",
            "sy \n",
            "to \n",
            "lea\n",
            "rn.\n",
            "\n"
          ]
        }
      ]
    },
    {
      "cell_type": "markdown",
      "source": [
        "# Solution 2\n"
      ],
      "metadata": {
        "id": "uNE1vwC6ptYU"
      }
    },
    {
      "cell_type": "code",
      "source": [
        "# Minimum Difference of Sum:\n",
        "\n",
        "# Create a function which will accept two arguements for number of students and their respective score.\n",
        "# Sort them in ascending order and find the absolute difference between their score.\n",
        "# find the sum of those absolute differences of the scores.\n",
        "\n",
        "# Eg: \n",
        "# Number of students in the list: 7\n",
        "# Scores of each students in the list: 9 7 4 8 2 5 10\n",
        "\n",
        "# output after performing the operation: 8\n",
        "\n",
        "# Explanation:\n",
        "\n",
        "# The sorted score list will be: [2,4,5,7,8,9,10]\n",
        "# The Absoulte difference are |2-4| = 2, |4-5| = 1, |5-7| = 2, |7-8| = 1, |8-9| = 1, |9-10| = 1,     \n",
        "# the sun of absolute Differences: 2+1+2+1+1+1 = 8\n",
        "\n",
        "\n"
      ],
      "metadata": {
        "id": "9KHloA513qR-"
      },
      "execution_count": null,
      "outputs": []
    },
    {
      "cell_type": "code",
      "source": [
        "# Input Format:\n",
        "# 1st line will accept the size of the array as integer value num.\n",
        "# 2nd will will accept the element of the array separated by the space\n",
        "\n",
        "\n",
        "# Constraints:\n",
        "# 0 > num >= 100\n",
        "# 0 > li[element] >= 10^4\n",
        "\n",
        "# Output:\n",
        "# Print the sum of absolute differences as a integer value.\n"
      ],
      "metadata": {
        "id": "B7Rke2Y3KDn0"
      },
      "execution_count": null,
      "outputs": []
    },
    {
      "cell_type": "code",
      "source": [
        "# Sample input:\n",
        "# 4\n",
        "# 7 8 5 3\n",
        "\n",
        "# Sample Output:\n",
        "# 5\n",
        "\n",
        "# Explanation:\n",
        "# The sorted list will be: [3 5 7 8]\n",
        "# The Absoulte difference are |3-5| = 2, |5-7| = 2, |7-8| = 1\n",
        "# the sum of the absolute differences = 2+2+1 = 5   "
      ],
      "metadata": {
        "id": "2wKi3363LC2L"
      },
      "execution_count": null,
      "outputs": []
    },
    {
      "cell_type": "code",
      "source": [
        "def examHall(num , li):\n",
        "    \n",
        "    li = sorted(li)\n",
        "    \n",
        "    ans = 0\n",
        "    \n",
        "    \n",
        "    for i in range(len(li) - 1):\n",
        "        ans += abs(li[i] - li[i+1])\n",
        "        \n",
        "    return ans\n",
        "\n",
        "n = int(input().strip())\n",
        "a = list(map(int, input().strip().split(' ')))  \n",
        "result = examHall(n,a)\n",
        "print(result)"
      ],
      "metadata": {
        "id": "T62AOHlN1nnh",
        "colab": {
          "base_uri": "https://localhost:8080/"
        },
        "outputId": "01846595-91a2-4542-dcdd-919528d8af34"
      },
      "execution_count": null,
      "outputs": [
        {
          "output_type": "stream",
          "name": "stdout",
          "text": [
            "4\n",
            "7 8 5 3\n",
            "5\n"
          ]
        }
      ]
    },
    {
      "cell_type": "code",
      "source": [
        "examHall([9,6,7])"
      ],
      "metadata": {
        "colab": {
          "base_uri": "https://localhost:8080/"
        },
        "id": "-0YfGku92cWw",
        "outputId": "716a233a-b329-4f6e-b0cc-33ec5b3483fa"
      },
      "execution_count": null,
      "outputs": [
        {
          "output_type": "execute_result",
          "data": {
            "text/plain": [
              "3"
            ]
          },
          "metadata": {},
          "execution_count": 10
        }
      ]
    },
    {
      "cell_type": "code",
      "source": [
        "class IncreasingList:\n",
        "\n",
        "    def __init__(self):\n",
        "        self.s = []\n",
        "        \n",
        "    def append(self, val):\n",
        "        \n",
        "        # \"\"\"\n",
        "        # first, it removes all elements from the list that have greater values than val, starting from the last one, and once there are no greater element in the list, it appends val to the end of the list\n",
        "        # \n",
        "        # \"\"\"\n",
        "        \n",
        "        while self.s and self.s[-1] > val:\n",
        "            self.s.pop()\n",
        "        self.s.append(val)\n",
        "\n",
        "    def pop(self):\n",
        "\n",
        "        # \"\"\"\n",
        "        # removes the last element from the list if the list is not empty, otherwise, if the list is empty, it does nothing\n",
        "        # \n",
        "        # \"\"\"\n",
        "\n",
        "        if self.s:\n",
        "            self.s.pop()\n",
        "\n",
        "    def __len__(self):\n",
        "\n",
        "        # \"\"\"\n",
        "        # returns the number of elements in the list\n",
        "        # \n",
        "        # \"\"\"\n",
        "        \n",
        "        return len(self.s)\n"
      ],
      "metadata": {
        "id": "BEDOCdVZ2hGU"
      },
      "execution_count": null,
      "outputs": []
    },
    {
      "cell_type": "code",
      "source": [
        "lst = IncreasingList()\n",
        "q = int(input())\n",
        "for _ in range(q):\n",
        "    op = input().split()\n",
        "    op_name = op[0]\n",
        "    if op_name == \"append\":\n",
        "        val = int(op[1])\n",
        "        lst.append(val)\n",
        "    elif op_name == \"pop\":\n",
        "        lst.pop()\n",
        "    elif op_name == \"size\":\n",
        "        print(len(lst))\n",
        "    else:\n",
        "        raise ValueError(\"invalid operation\")"
      ],
      "metadata": {
        "id": "rJX01dSl3Hc3",
        "colab": {
          "base_uri": "https://localhost:8080/"
        },
        "outputId": "4322a8a2-0f22-4eb9-94e9-9a84b87978a7"
      },
      "execution_count": null,
      "outputs": [
        {
          "output_type": "stream",
          "name": "stdout",
          "text": [
            "3\n",
            "append 3\n",
            "append 2\n",
            "size\n",
            "1\n"
          ]
        }
      ]
    },
    {
      "cell_type": "code",
      "source": [
        "cld.append(78)"
      ],
      "metadata": {
        "id": "1MDFN5Lk3MoN"
      },
      "execution_count": null,
      "outputs": []
    },
    {
      "cell_type": "code",
      "source": [
        "cld.append(98)"
      ],
      "metadata": {
        "id": "v22rRfIw3WXh"
      },
      "execution_count": null,
      "outputs": []
    },
    {
      "cell_type": "code",
      "source": [
        "cld.append(99)"
      ],
      "metadata": {
        "id": "vZgx2CQo3bG4"
      },
      "execution_count": null,
      "outputs": []
    },
    {
      "cell_type": "code",
      "source": [
        "cld.append(100)"
      ],
      "metadata": {
        "id": "DdMsXR2h38H0"
      },
      "execution_count": null,
      "outputs": []
    },
    {
      "cell_type": "code",
      "source": [
        "cld.__len__()"
      ],
      "metadata": {
        "colab": {
          "base_uri": "https://localhost:8080/"
        },
        "id": "wHPdMyal3ghI",
        "outputId": "b818fee5-5149-49b5-b2bc-380d5a142e55"
      },
      "execution_count": null,
      "outputs": [
        {
          "output_type": "execute_result",
          "data": {
            "text/plain": [
              "4"
            ]
          },
          "metadata": {},
          "execution_count": 26
        }
      ]
    },
    {
      "cell_type": "code",
      "source": [
        "num = int(input()) # Number of element in the array\n",
        "array = []\n",
        "for i in range(0,num):\n",
        "    ops = input().split()\n",
        "    if ops[0] == \"print\":\n",
        "    elif ops[0] == \"pop\":\n",
        "        array.pop()\n",
        "    elif ops[0] == \"append\":\n",
        "        array.append(int(ops[1]))\n",
        "    elif ops[0] == \"sort\":\n",
        "        array.sort()\n",
        "    elif ops[0] == \"reverse\":\n",
        "        array.reverse()\n",
        "    else:\n",
        "      print(array)"
      ],
      "metadata": {
        "id": "p7nQ-2v5PeEq"
      },
      "execution_count": null,
      "outputs": []
    },
    {
      "cell_type": "code",
      "source": [
        "def rodOffcut(lengths):\n",
        "    new_lengths = lengths.copy()\n",
        "    number_of_rods: List[int] = []\n",
        "\n",
        "    while new_lengths:\n",
        "        number_of_rods.append(len(new_lengths))\n",
        "\n",
        "        cut_length = min(new_lengths)\n",
        "        new_lengths = [l-cut_length for l in new_lengths if l > cut_length]\n",
        "\n",
        "    return number_of_rods"
      ],
      "metadata": {
        "id": "N4iA6xid3rpX"
      },
      "execution_count": null,
      "outputs": []
    },
    {
      "cell_type": "code",
      "source": [
        "rodOffcut([5,8,9,5])"
      ],
      "metadata": {
        "colab": {
          "base_uri": "https://localhost:8080/"
        },
        "id": "OOeS1FwX9pXd",
        "outputId": "5dfd38a4-e5b8-411b-e9b7-cec50a781d83"
      },
      "execution_count": null,
      "outputs": [
        {
          "output_type": "execute_result",
          "data": {
            "text/plain": [
              "[4, 2, 1]"
            ]
          },
          "metadata": {},
          "execution_count": 49
        }
      ]
    },
    {
      "cell_type": "code",
      "source": [
        "\n"
      ],
      "metadata": {
        "id": "HpMvVdq49uwC"
      },
      "execution_count": null,
      "outputs": []
    }
  ]
}