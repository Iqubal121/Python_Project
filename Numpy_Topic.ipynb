{
  "nbformat": 4,
  "nbformat_minor": 0,
  "metadata": {
    "colab": {
      "name": "Numpy_Topic",
      "provenance": [],
      "collapsed_sections": []
    },
    "kernelspec": {
      "name": "python3",
      "display_name": "Python 3"
    },
    "language_info": {
      "name": "python"
    }
  },
  "cells": [
    {
      "cell_type": "markdown",
      "source": [
        "# **Python  Numpy**\n",
        "NumPy stands for Numerical Python.\n",
        "\n",
        "Most of the Numpy functions are written in C and C++. \n",
        "NumPy is a Python library used for working with arrays.\n",
        "\n",
        "NumPy was created in 2005 by Travis Oliphant. It is an open source project and you can use it freely.\n",
        "\n",
        "It provides fetures for working in domain of linear algebra, fourier transform, and matrices.\n",
        "## **Why we use Numpy:-**\n",
        "In Python we have lists that serve the purpose of arrays, but they are slow to process.\n",
        "\n",
        "The array object in NumPy is called ndarray, it provides a lot of supporting functions that make working with ndarray very easy.\n",
        "\n",
        "Arrays are very frequently used in data science, where speed and resources are very important.\n",
        "## **When we have list then why we need Numpy?**\n",
        "As we know that Python dosen't support inbuilt Array. Instead of array we work in list as a array in python.\n",
        "But List is too slower than Numpy.\n",
        "List Consume more storage than Numpy. NumPy aims to provide an array object that is up to 50x faster than traditional Python lists.\n",
        "\n",
        "This is the main reason why NumPy is faster than lists. Also it is optimized to work with latest CPU architectures.\n"
      ],
      "metadata": {
        "id": "mNK4edgmMFSc"
      }
    },
    {
      "cell_type": "code",
      "source": [
        "# What to do for Work in Numpu:-\n",
        "# we have to import numpy Library to implement it into the program\n",
        "\n",
        "import numpy as np #here np means numpy object, We'll use numpy as np\n",
        "# we can say that np is alais(alternate name) for Numpy\n",
        "\n",
        "# we'll see how to create a array bu using Numpy array:- \n",
        "a = np.array([1,2,3])\n",
        "print(a)\n"
      ],
      "metadata": {
        "colab": {
          "base_uri": "https://localhost:8080/"
        },
        "id": "eH6qxAxIO1Ga",
        "outputId": "798e5433-155a-4ee4-ad85-16c6fee2a2fc"
      },
      "execution_count": null,
      "outputs": [
        {
          "output_type": "stream",
          "name": "stdout",
          "text": [
            "[1 2 3]\n"
          ]
        }
      ]
    },
    {
      "cell_type": "code",
      "source": [
        "#  we can check the numpy version:- \n",
        "print(np.__version__)"
      ],
      "metadata": {
        "colab": {
          "base_uri": "https://localhost:8080/"
        },
        "id": "x4lLPIE7QnRR",
        "outputId": "0f600875-c1eb-49ff-dc84-7e7925cc81b1"
      },
      "execution_count": null,
      "outputs": [
        {
          "output_type": "stream",
          "name": "stdout",
          "text": [
            "1.19.5\n"
          ]
        }
      ]
    },
    {
      "cell_type": "code",
      "source": [
        " # "
      ],
      "metadata": {
        "id": "lHWcbZdoQ50C"
      },
      "execution_count": null,
      "outputs": []
    },
    {
      "cell_type": "markdown",
      "source": [
        "# **Create a NumPy ndarray Object**\n",
        "NumPy is used to work with arrays. The array object in NumPy is called ndarray.\n",
        "\n",
        "We can create a NumPy ndarray object by using the array() function."
      ],
      "metadata": {
        "id": "fvBeWtc3RA6c"
      }
    },
    {
      "cell_type": "code",
      "source": [
        "# create a array \n",
        "import numpy as np\n",
        "b = np.array([1,2,3,4,5])\n",
        "print(b,\"\\n \")\n",
        "\n",
        "# we can check the type of b\n",
        "type(b)\n"
      ],
      "metadata": {
        "colab": {
          "base_uri": "https://localhost:8080/"
        },
        "id": "3IitJKISRXTz",
        "outputId": "77d6d5bd-b163-445e-ad97-3a44ba317754"
      },
      "execution_count": null,
      "outputs": [
        {
          "output_type": "stream",
          "name": "stdout",
          "text": [
            "[1 2 3 4 5] \n",
            " \n"
          ]
        },
        {
          "output_type": "execute_result",
          "data": {
            "text/plain": [
              "numpy.ndarray"
            ]
          },
          "metadata": {},
          "execution_count": 7
        }
      ]
    },
    {
      "cell_type": "code",
      "source": [
        "# we can define 0d - 2d - 3d - amd ND array by using Numpy:\n",
        "_0d = np.array([10])\n",
        "print(\"0D array is: \\n\",_0d)\n",
        "_2d = np.array([[1,2,3],[4,5,6]])\n",
        "print(\"\\n\\n 2d array is: \\n\", _2d)\n",
        "\n",
        "_3d = np.array([[1,2,3],[1,2,23],[7,8,9]])\n",
        "print(\"\\n\\n 3d array is: \\n\", _3d)\n",
        "\n",
        "# n-D array\n",
        "_nD = np.array([[1,2,3],[4,5,6],[7,8,90],[4,5,3],[7,5,6]])\n",
        "print(\"\\n \\n The nd array is: \\n\", _nD)"
      ],
      "metadata": {
        "id": "1fJaell7Rllz"
      },
      "execution_count": null,
      "outputs": []
    },
    {
      "cell_type": "markdown",
      "source": [
        "# ***Topic*** :- Numpy array Mathematics:-"
      ],
      "metadata": {
        "id": "zpNB1BdaS3YQ"
      }
    },
    {
      "cell_type": "code",
      "source": [
        "# Addition \n",
        "import numpy as np\n",
        "np.sum([10,20])"
      ],
      "metadata": {
        "colab": {
          "base_uri": "https://localhost:8080/"
        },
        "id": "7efDAhcaTIfA",
        "outputId": "776d0c9b-cd25-4477-972e-fa5ccd3277ca"
      },
      "execution_count": null,
      "outputs": [
        {
          "output_type": "execute_result",
          "data": {
            "text/plain": [
              "30"
            ]
          },
          "metadata": {},
          "execution_count": 278
        }
      ]
    },
    {
      "cell_type": "code",
      "source": [
        "## addition using Variables:-\n",
        "a,b = 15,12\n",
        "np.sum([a,b])"
      ],
      "metadata": {
        "colab": {
          "base_uri": "https://localhost:8080/"
        },
        "id": "qi2mklwzTV0-",
        "outputId": "1a7e0d3c-09e5-4844-d570-e14f5c4a39e5"
      },
      "execution_count": null,
      "outputs": [
        {
          "output_type": "execute_result",
          "data": {
            "text/plain": [
              "27"
            ]
          },
          "metadata": {},
          "execution_count": 279
        }
      ]
    },
    {
      "cell_type": "code",
      "source": [
        "# wanna add array in numbers by rows\n",
        "np.sum([[3,2],[6,4]],axis=0)"
      ],
      "metadata": {
        "colab": {
          "base_uri": "https://localhost:8080/"
        },
        "id": "MGZ23cn0ULz-",
        "outputId": "e3aa9f94-da2d-4847-fd38-79fbdeb62606"
      },
      "execution_count": null,
      "outputs": [
        {
          "output_type": "execute_result",
          "data": {
            "text/plain": [
              "array([9, 6])"
            ]
          },
          "metadata": {},
          "execution_count": 280
        }
      ]
    },
    {
      "cell_type": "code",
      "source": [
        "# wanna add array in numbers by columns\n",
        "np.sum([[3,2],[6,4]],axis=1)"
      ],
      "metadata": {
        "colab": {
          "base_uri": "https://localhost:8080/"
        },
        "id": "NCr1wYIEU_oO",
        "outputId": "9907b9be-714c-4985-9f77-87686eab9f25"
      },
      "execution_count": null,
      "outputs": [
        {
          "output_type": "execute_result",
          "data": {
            "text/plain": [
              "array([ 5, 10])"
            ]
          },
          "metadata": {},
          "execution_count": 281
        }
      ]
    },
    {
      "cell_type": "code",
      "source": [
        "#Subtraction of the array\n",
        "import numpy as np\n",
        "np.subtract(30,20)"
      ],
      "metadata": {
        "colab": {
          "base_uri": "https://localhost:8080/"
        },
        "id": "hK6crl31V_zt",
        "outputId": "bb39b919-c9ec-4e4b-c483-e930f7ea6910"
      },
      "execution_count": null,
      "outputs": [
        {
          "output_type": "execute_result",
          "data": {
            "text/plain": [
              "10"
            ]
          },
          "metadata": {},
          "execution_count": 282
        }
      ]
    },
    {
      "cell_type": "code",
      "source": [
        "## subtract using Variables:-\n",
        "a,b = 15,12\n",
        "np.subtract(a,b)"
      ],
      "metadata": {
        "colab": {
          "base_uri": "https://localhost:8080/"
        },
        "id": "8Id6vEHwXA5M",
        "outputId": "1916f503-2c9c-4d7f-c95a-3baaa5103a9a"
      },
      "execution_count": null,
      "outputs": [
        {
          "output_type": "execute_result",
          "data": {
            "text/plain": [
              "3"
            ]
          },
          "metadata": {},
          "execution_count": 283
        }
      ]
    },
    {
      "cell_type": "code",
      "source": [
        "# Multiply two Number\n",
        "np.multiply(5,20)"
      ],
      "metadata": {
        "colab": {
          "base_uri": "https://localhost:8080/"
        },
        "id": "PoDpn4gvXWj9",
        "outputId": "eafeceaf-a4df-4a19-aba1-7132cdcec966"
      },
      "execution_count": null,
      "outputs": [
        {
          "output_type": "execute_result",
          "data": {
            "text/plain": [
              "100"
            ]
          },
          "metadata": {},
          "execution_count": 284
        }
      ]
    },
    {
      "cell_type": "code",
      "source": [
        "np.multiply([3,2],[6,4])"
      ],
      "metadata": {
        "colab": {
          "base_uri": "https://localhost:8080/"
        },
        "id": "YiAxJXwvYX-o",
        "outputId": "bca2ba1e-f403-4a88-9512-a4026a2cfa6f"
      },
      "execution_count": null,
      "outputs": [
        {
          "output_type": "execute_result",
          "data": {
            "text/plain": [
              "array([18,  8])"
            ]
          },
          "metadata": {},
          "execution_count": 285
        }
      ]
    },
    {
      "cell_type": "code",
      "source": [
        "# Divide two numbres\n",
        "np.divide(100,6)"
      ],
      "metadata": {
        "colab": {
          "base_uri": "https://localhost:8080/"
        },
        "id": "EZWMCWunX14t",
        "outputId": "f766aa50-0e13-4c4c-e88b-54b9924c97dd"
      },
      "execution_count": null,
      "outputs": [
        {
          "output_type": "execute_result",
          "data": {
            "text/plain": [
              "16.666666666666668"
            ]
          },
          "metadata": {},
          "execution_count": 286
        }
      ]
    },
    {
      "cell_type": "code",
      "source": [
        "np.divide([3,2],[6,4])"
      ],
      "metadata": {
        "colab": {
          "base_uri": "https://localhost:8080/"
        },
        "id": "IEb1KbCMX9S-",
        "outputId": "9a91134b-cc95-421d-9c33-75a671a2d757"
      },
      "execution_count": null,
      "outputs": [
        {
          "output_type": "execute_result",
          "data": {
            "text/plain": [
              "array([0.5, 0.5])"
            ]
          },
          "metadata": {},
          "execution_count": 287
        }
      ]
    },
    {
      "cell_type": "code",
      "source": [
        "m =np.array([1,2,1,2])\n",
        "m"
      ],
      "metadata": {
        "colab": {
          "base_uri": "https://localhost:8080/"
        },
        "id": "PZ1iI1_DYsLz",
        "outputId": "b2439f20-3806-4d80-aee6-3537bca909de"
      },
      "execution_count": null,
      "outputs": [
        {
          "output_type": "execute_result",
          "data": {
            "text/plain": [
              "array([1, 2, 1, 2])"
            ]
          },
          "metadata": {},
          "execution_count": 288
        }
      ]
    },
    {
      "cell_type": "code",
      "source": [
        "#Exponents of the array:-\n",
        "np.exp(m)"
      ],
      "metadata": {
        "colab": {
          "base_uri": "https://localhost:8080/"
        },
        "id": "pzOw9GNbZoHN",
        "outputId": "321f8e08-6388-4a03-98f0-e700364d3e9f"
      },
      "execution_count": null,
      "outputs": [
        {
          "output_type": "execute_result",
          "data": {
            "text/plain": [
              "array([2.71828183, 7.3890561 , 2.71828183, 7.3890561 ])"
            ]
          },
          "metadata": {},
          "execution_count": 289
        }
      ]
    },
    {
      "cell_type": "code",
      "source": [
        "#Squareroot of the array\n",
        "np.sqrt(m)"
      ],
      "metadata": {
        "colab": {
          "base_uri": "https://localhost:8080/"
        },
        "id": "KHDxCRpwZry8",
        "outputId": "17a0931d-2cb6-4ca9-df30-86006ab09c3f"
      },
      "execution_count": null,
      "outputs": [
        {
          "output_type": "execute_result",
          "data": {
            "text/plain": [
              "array([1.        , 1.41421356, 1.        , 1.41421356])"
            ]
          },
          "metadata": {},
          "execution_count": 290
        }
      ]
    },
    {
      "cell_type": "code",
      "source": [
        "#Sin value of the array\n",
        "np.sin(m)"
      ],
      "metadata": {
        "colab": {
          "base_uri": "https://localhost:8080/"
        },
        "id": "RLdYiSE1afoM",
        "outputId": "0fe2b2be-6c57-4173-8884-75c42a37e74a"
      },
      "execution_count": null,
      "outputs": [
        {
          "output_type": "execute_result",
          "data": {
            "text/plain": [
              "array([0.84147098, 0.90929743, 0.84147098, 0.90929743])"
            ]
          },
          "metadata": {},
          "execution_count": 291
        }
      ]
    },
    {
      "cell_type": "code",
      "source": [
        "#Cos value of the array\n",
        "np.cos(m)"
      ],
      "metadata": {
        "colab": {
          "base_uri": "https://localhost:8080/"
        },
        "id": "CagoGY1JazuM",
        "outputId": "60bfad7f-2d35-49bc-9a0b-9c716c2a7f4a"
      },
      "execution_count": null,
      "outputs": [
        {
          "output_type": "execute_result",
          "data": {
            "text/plain": [
              "array([ 0.54030231, -0.41614684,  0.54030231, -0.41614684])"
            ]
          },
          "metadata": {},
          "execution_count": 292
        }
      ]
    },
    {
      "cell_type": "code",
      "source": [
        "#Log value of the array\n",
        "np.log(m)"
      ],
      "metadata": {
        "colab": {
          "base_uri": "https://localhost:8080/"
        },
        "id": "ED75Or6Ca5mM",
        "outputId": "60c94ff6-5781-4f09-870c-1058333fb166"
      },
      "execution_count": null,
      "outputs": [
        {
          "output_type": "execute_result",
          "data": {
            "text/plain": [
              "array([0.        , 0.69314718, 0.        , 0.69314718])"
            ]
          },
          "metadata": {},
          "execution_count": 293
        }
      ]
    },
    {
      "cell_type": "code",
      "source": [
        " # Array comparision by unsing Numpy Equal() function\n",
        "a = [1,2,3]\n",
        "b = [2,5,6]\n",
        "c = [1,2,3]\n",
        "np.equal(a,b)"
      ],
      "metadata": {
        "colab": {
          "base_uri": "https://localhost:8080/"
        },
        "id": "v7McnjpJbAys",
        "outputId": "f18eec62-6d73-4681-acc6-3f443245b957"
      },
      "execution_count": null,
      "outputs": [
        {
          "output_type": "execute_result",
          "data": {
            "text/plain": [
              "array([False, False, False])"
            ]
          },
          "metadata": {},
          "execution_count": 294
        }
      ]
    },
    {
      "cell_type": "code",
      "source": [
        "# Aggregate Function:- \n",
        "a = [1,2,3]\n",
        "b = [3,4,5]\n",
        "print(\"SUM: \", np.sum(a))\n",
        "print(\"Minimum: \", np.min(a))\n",
        "print(\"Mean: \", np.mean(a))\n",
        "print(\"Median: \", np.median(a))\n",
        "print(\"Corelation Cofficient: \", np.corrcoef(a))\n",
        "print(\"Standard Deviation: \", np.std(a))\n"
      ],
      "metadata": {
        "colab": {
          "base_uri": "https://localhost:8080/"
        },
        "id": "AKEZz7RgcciM",
        "outputId": "1ff86581-da21-4ef7-8616-7cce510eae10"
      },
      "execution_count": null,
      "outputs": [
        {
          "output_type": "stream",
          "name": "stdout",
          "text": [
            "SUM:  6\n",
            "Minimum:  1\n",
            "Mean:  2.0\n",
            "Median:  2.0\n",
            "Corelation Cofficient:  1.0\n",
            "Standard Deviation:  0.816496580927726\n"
          ]
        }
      ]
    },
    {
      "cell_type": "code",
      "source": [
        "# Numpy Broadcasting:-\n",
        "import numpy as np\n",
        "a = np.array([[0,0,0],[1,2,3],[4,5,6],[5,6,7]])\n",
        "b = np.array([0,1,2])\n",
        "print(\"1st Array: \\n\",a,\"\\n\")\n",
        "print(\"2nd Array: \\n\",b,\"\\n\")\n",
        "print(\"1st + 2nd Array: \\n\", a+b, \"\\n\")"
      ],
      "metadata": {
        "colab": {
          "base_uri": "https://localhost:8080/"
        },
        "id": "k-4ijO_6fvqL",
        "outputId": "0eaf3b83-e61e-43f5-8a81-2f3ca2d4f04f"
      },
      "execution_count": null,
      "outputs": [
        {
          "output_type": "stream",
          "name": "stdout",
          "text": [
            "1st Array: \n",
            " [[0 0 0]\n",
            " [1 2 3]\n",
            " [4 5 6]\n",
            " [5 6 7]] \n",
            "\n",
            "2nd Array: \n",
            " [0 1 2] \n",
            "\n",
            "1st + 2nd Array: \n",
            " [[0 1 2]\n",
            " [1 3 5]\n",
            " [4 6 8]\n",
            " [5 7 9]] \n",
            "\n"
          ]
        }
      ]
    },
    {
      "cell_type": "markdown",
      "source": [
        "# **Initializing a Numpy array:-**\n",
        "We can directly initialize the array:- "
      ],
      "metadata": {
        "id": "UTdI96F3UZJi"
      }
    },
    {
      "cell_type": "code",
      "source": [
        "# initilize the array:-\n",
        "# for initialize the array we use .array() functions:-\n",
        "import numpy as np\n",
        "a = np.array((2,3))\n",
        "print(a)\n",
        "\n",
        "#we can initializ the array with zero valo only:-\n",
        "z = np.zeros((2,3))\n",
        "print(\" \\n The array with zero values is: \\n\", z)\n",
        "\n",
        "# Here we can initialize a array with same values:-\n",
        "s = np.full((2,3),5)\n",
        "print(\"\\n The same value of the array is:\\n\",s)\n"
      ],
      "metadata": {
        "colab": {
          "base_uri": "https://localhost:8080/"
        },
        "id": "0Y9XyEp5VA4i",
        "outputId": "3d94bd1b-e8eb-4eaf-b1a9-2cba047adaa3"
      },
      "execution_count": null,
      "outputs": [
        {
          "output_type": "stream",
          "name": "stdout",
          "text": [
            "[2 3]\n",
            " \n",
            " The array with zero values is: \n",
            " [[0. 0. 0.]\n",
            " [0. 0. 0.]]\n",
            "\n",
            " The same value of the array is:\n",
            " [[5 5 5]\n",
            " [5 5 5]]\n"
          ]
        }
      ]
    },
    {
      "cell_type": "code",
      "source": [
        "#Arrange 1 to 50 with interval 3 by using Numpy library\n",
        "import numpy as np\n",
        "np.arange(1,20,3)"
      ],
      "metadata": {
        "colab": {
          "base_uri": "https://localhost:8080/"
        },
        "id": "lvL89BLZVVli",
        "outputId": "b3e7f76d-bc59-4814-dd08-993f1068a280"
      },
      "execution_count": null,
      "outputs": [
        {
          "output_type": "execute_result",
          "data": {
            "text/plain": [
              "array([ 1,  4,  7, 10, 13, 16, 19])"
            ]
          },
          "metadata": {},
          "execution_count": 28
        }
      ]
    },
    {
      "cell_type": "code",
      "source": [
        "#prind the interval point by using Numpy\n",
        "np.linspace(5,10,11)"
      ],
      "metadata": {
        "colab": {
          "base_uri": "https://localhost:8080/"
        },
        "id": "yuM6zb2DXPjo",
        "outputId": "36c6e70a-2538-4bdd-873a-c459e4d42591"
      },
      "execution_count": null,
      "outputs": [
        {
          "output_type": "execute_result",
          "data": {
            "text/plain": [
              "array([ 5. ,  5.5,  6. ,  6.5,  7. ,  7.5,  8. ,  8.5,  9. ,  9.5, 10. ])"
            ]
          },
          "metadata": {},
          "execution_count": 29
        }
      ]
    },
    {
      "cell_type": "code",
      "source": [
        "# Return the size of the array\n",
        "import numpy as np\n",
        "b = np.array([[1,2,3],[4,5,6]])\n",
        "print(b.shape)\n",
        "\n",
        "#Resize the array by using ndarray.shape function.\n",
        "b.shape = (3,2)\n",
        "print(\"\\n\", b)\n"
      ],
      "metadata": {
        "colab": {
          "base_uri": "https://localhost:8080/"
        },
        "id": "VoaCzEP8XVXx",
        "outputId": "2f85fa79-08a9-4c07-822a-9e0a95a64828"
      },
      "execution_count": null,
      "outputs": [
        {
          "output_type": "stream",
          "name": "stdout",
          "text": [
            "(2, 3)\n",
            "\n",
            " [[1 2]\n",
            " [3 4]\n",
            " [5 6]]\n"
          ]
        }
      ]
    },
    {
      "cell_type": "code",
      "source": [
        "#create a array with 4X5\n",
        "a = np.array([[1,2,3,4],[2,3,4,7],[4,5,6,8],[1,5,9,0],[1,2,4,6]])\n",
        "print(a)\n",
        "print(\"\\n the size of the array is:\\n\",a.shape)"
      ],
      "metadata": {
        "colab": {
          "base_uri": "https://localhost:8080/"
        },
        "id": "c7HTKZVbXm8B",
        "outputId": "13949bc6-4a8d-402c-c831-94b983bf6c19"
      },
      "execution_count": null,
      "outputs": [
        {
          "output_type": "stream",
          "name": "stdout",
          "text": [
            "[[1 2 3 4]\n",
            " [2 3 4 7]\n",
            " [4 5 6 8]\n",
            " [1 5 9 0]\n",
            " [1 2 4 6]]\n",
            "\n",
            " the size of the array is:\n",
            " (5, 4)\n"
          ]
        }
      ]
    },
    {
      "cell_type": "code",
      "source": [
        "#resize it\n",
        "a.shape = (4,5)\n",
        "a"
      ],
      "metadata": {
        "colab": {
          "base_uri": "https://localhost:8080/"
        },
        "id": "wj9i429TYCwx",
        "outputId": "5e8cfd93-6b22-4378-a838-e69be3c16873"
      },
      "execution_count": null,
      "outputs": [
        {
          "output_type": "execute_result",
          "data": {
            "text/plain": [
              "array([[1, 2, 3, 4, 2],\n",
              "       [3, 4, 7, 4, 5],\n",
              "       [6, 8, 1, 5, 9],\n",
              "       [0, 1, 2, 4, 6]])"
            ]
          },
          "metadata": {},
          "execution_count": 37
        }
      ]
    },
    {
      "cell_type": "code",
      "source": [
        "#Check the dimension of the array by using ndim() function:- \n",
        "\n",
        "# reshape the Array By using reshape Operator:\n",
        "d = a.reshape(10,\n",
        "              2)\n",
        "print(\"\\n The reshape array is : \\n\", d)\n",
        "\n",
        "print(\"\\n\\n The dimention of the array is: \\n\",d.ndim)\n",
        "\n"
      ],
      "metadata": {
        "colab": {
          "base_uri": "https://localhost:8080/"
        },
        "id": "4nL12bFZYVRB",
        "outputId": "0dd026b6-f3de-4d25-e873-5fddb65ec414"
      },
      "execution_count": null,
      "outputs": [
        {
          "output_type": "stream",
          "name": "stdout",
          "text": [
            "\n",
            " The reshape array is : \n",
            " [[1 2]\n",
            " [3 4]\n",
            " [2 3]\n",
            " [4 7]\n",
            " [4 5]\n",
            " [6 8]\n",
            " [1 5]\n",
            " [9 0]\n",
            " [1 2]\n",
            " [4 6]]\n",
            "\n",
            "\n",
            " The dimention of the array is: \n",
            " 2\n"
          ]
        }
      ]
    },
    {
      "cell_type": "code",
      "source": [
        ""
      ],
      "metadata": {
        "id": "Ve93SEPiYcrh"
      },
      "execution_count": null,
      "outputs": []
    },
    {
      "cell_type": "markdown",
      "source": [
        "# **Data Types in NumPy**\n",
        "NumPy has some extra data types, and refer to data types with one character, like i for integers, u for unsigned integers etc.\n",
        "1. i - integer\n",
        "2. b - boolean\n",
        "3. u - unsigned integer\n",
        "4. f - float\n",
        "5. c - complex float\n",
        "6. m - timedelta\n",
        "7. M - datetime\n",
        "8. O - object\n",
        "9. S - string\n",
        "10. U - unicode string\n",
        "11. V - fixed chunk of memory for other type ( void )"
      ],
      "metadata": {
        "id": "XWnCFrDYRpyg"
      }
    },
    {
      "cell_type": "code",
      "source": [
        "#Check the data type of an array object:\n",
        "\n",
        "import numpy as np\n",
        "\n",
        "arr = np.array([1, 2, 3, 4])\n",
        "\n",
        "print(arr.dtype)"
      ],
      "metadata": {
        "colab": {
          "base_uri": "https://localhost:8080/"
        },
        "id": "QNHnYRCWSX3Z",
        "outputId": "bc3fd5b6-2c26-4139-ef2e-0563e5bbea37"
      },
      "execution_count": 1,
      "outputs": [
        {
          "output_type": "stream",
          "name": "stdout",
          "text": [
            "int64\n"
          ]
        }
      ]
    },
    {
      "cell_type": "code",
      "source": [
        "# Create an array with data type string:\n",
        "\n",
        "import numpy as np\n",
        "\n",
        "arr = np.array([1, 2, 3, 4], dtype='S')\n",
        "\n",
        "print(arr)\n",
        "print(arr.dtype)"
      ],
      "metadata": {
        "id": "tP-7ZGeWTYDR"
      },
      "execution_count": null,
      "outputs": []
    },
    {
      "cell_type": "markdown",
      "source": [
        "### **Converting Data Type on Existing Arrays**\n",
        "The best way to change the data type of an existing array, is to make a copy of the array with the **astype()** method.\n",
        "\n",
        "The **astype()** function creates a copy of the array, and allows you to specify the data type as a parameter.\n",
        "\n",
        "The data type can be specified using a string, like 'f' for float, 'i' for integer etc. or you can use the data type directly like float for float and int for integer."
      ],
      "metadata": {
        "id": "TkPlfPLQTBPR"
      }
    },
    {
      "cell_type": "code",
      "source": [
        "#We've Float data types and we want to convert it into in integer data types:- \n",
        "import numpy as np\n",
        "\n",
        "arr = np.array([1.1, 2.1, 3.1])\n",
        "\n",
        "newarr = arr.astype('i')\n",
        "\n",
        "print(newarr)\n",
        "print(newarr.dtype)"
      ],
      "metadata": {
        "colab": {
          "base_uri": "https://localhost:8080/"
        },
        "id": "89jjJUgHSjtY",
        "outputId": "c46c92c9-b0d9-43f3-ec52-2294e95d0a75"
      },
      "execution_count": 3,
      "outputs": [
        {
          "output_type": "stream",
          "name": "stdout",
          "text": [
            "[1 2 3]\n",
            "int32\n"
          ]
        }
      ]
    },
    {
      "cell_type": "code",
      "source": [
        "#Change data type from integer to boolean:\n",
        "\n",
        "import numpy as np\n",
        "\n",
        "arr = np.array([1, 0, 3])\n",
        "\n",
        "newarr = arr.astype(bool)\n",
        "\n",
        "print(newarr)\n",
        "print(newarr.dtype)"
      ],
      "metadata": {
        "colab": {
          "base_uri": "https://localhost:8080/"
        },
        "id": "mS9TxZBOT3bA",
        "outputId": "372733be-9b5b-4d8c-b03d-4bf439d22b01"
      },
      "execution_count": 4,
      "outputs": [
        {
          "output_type": "stream",
          "name": "stdout",
          "text": [
            "[ True False  True]\n",
            "bool\n"
          ]
        }
      ]
    },
    {
      "cell_type": "markdown",
      "source": [
        "# **Joining array by Using Numpy**\n",
        "Joining means putting contents of two or more arrays in a single array.\n",
        "\n",
        "In SQL we join tables based on a key, whereas in NumPy we join arrays by axes.\n",
        "\n",
        "We pass a sequence of arrays that we want to join to the concatenate() function, along with the axis. If axis is not explicitly passed, it is taken as 0."
      ],
      "metadata": {
        "id": "0XInLowBXwXJ"
      }
    },
    {
      "cell_type": "code",
      "source": [
        "# joing the 2d array together:-\n",
        "import numpy as np\n",
        "\n",
        "arr1 = np.array([[1, 2], [3, 4]])\n",
        "\n",
        "arr2 = np.array([[5, 6], [7, 8]])\n",
        "\n",
        "arr = np.concatenate((arr1, arr2), axis=1)\n",
        "\n",
        "print(arr)"
      ],
      "metadata": {
        "id": "pHmoh9p4X_ew"
      },
      "execution_count": null,
      "outputs": []
    },
    {
      "cell_type": "code",
      "source": [
        "#We can join the array by using stack function also:- stack()\n",
        "#Stacking is same as concatenation, the only difference is that stacking is done along a new axis.\n",
        "\n",
        "import numpy as np\n",
        "\n",
        "arr1 = np.array([1, 2, 3])\n",
        "\n",
        "arr2 = np.array([4, 5, 6])\n",
        "\n",
        "arr = np.stack((arr1, arr2), axis=1)\n",
        "\n",
        "print(arr)"
      ],
      "metadata": {
        "colab": {
          "base_uri": "https://localhost:8080/"
        },
        "id": "5B8ypShyYbH3",
        "outputId": "41b8a6ad-1db1-4b56-dd82-e846883990f0"
      },
      "execution_count": 5,
      "outputs": [
        {
          "output_type": "stream",
          "name": "stdout",
          "text": [
            "[[1 4]\n",
            " [2 5]\n",
            " [3 6]]\n"
          ]
        }
      ]
    },
    {
      "cell_type": "markdown",
      "source": [
        "# **Iterating Array:-**\n",
        "Iterating means going through elements one by one.\n",
        "\n",
        "As we deal with multi-dimensional arrays in numpy, we can do this using basic for loop of python.\n",
        "\n",
        "If we iterate on a 1-D array it will go through each element one by one."
      ],
      "metadata": {
        "id": "xBOX3iI7bjPa"
      }
    },
    {
      "cell_type": "code",
      "source": [
        "#Iterate on the elements of the following 1-D array:\n",
        "\n",
        "import numpy as np\n",
        "\n",
        "arr = np.array([1, 2, 3])\n",
        "\n",
        "for x in arr:\n",
        "  print(x)"
      ],
      "metadata": {
        "colab": {
          "base_uri": "https://localhost:8080/"
        },
        "id": "6l7LRTibbtYA",
        "outputId": "d14d2cf0-007b-4273-927c-595ccb839693"
      },
      "execution_count": null,
      "outputs": [
        {
          "output_type": "stream",
          "name": "stdout",
          "text": [
            "1\n",
            "2\n",
            "3\n"
          ]
        }
      ]
    },
    {
      "cell_type": "code",
      "source": [
        "#Iterate on the elements of the following 2-D array:\n",
        "\n",
        "import numpy as np\n",
        "\n",
        "arr = np.array([[1, 2, 3], [4, 5, 6]])\n",
        "\n",
        "for x in arr:\n",
        "  print(x)"
      ],
      "metadata": {
        "colab": {
          "base_uri": "https://localhost:8080/"
        },
        "id": "smk1AYSSbzLI",
        "outputId": "8f888bf2-f9d2-44d8-809a-43efa8b3576e"
      },
      "execution_count": null,
      "outputs": [
        {
          "output_type": "stream",
          "name": "stdout",
          "text": [
            "[1 2 3]\n",
            "[4 5 6]\n"
          ]
        }
      ]
    },
    {
      "cell_type": "code",
      "source": [
        "#Iterate on each scalar element of the 2-D array:\n",
        "\n",
        "import numpy as np\n",
        "\n",
        "arr = np.array([[1, 2, 3], [4, 5, 6]])\n",
        "\n",
        "for x in arr:\n",
        "  for y in x:\n",
        "    print(y)"
      ],
      "metadata": {
        "colab": {
          "base_uri": "https://localhost:8080/"
        },
        "id": "bmOToRlib4wQ",
        "outputId": "dacb4542-0a46-46b3-e5da-91208a88a1c3"
      },
      "execution_count": null,
      "outputs": [
        {
          "output_type": "stream",
          "name": "stdout",
          "text": [
            "1\n",
            "2\n",
            "3\n",
            "4\n",
            "5\n",
            "6\n"
          ]
        }
      ]
    },
    {
      "cell_type": "code",
      "source": [
        "#Iterate on the elements of the following 3-D array:\n",
        "\n",
        "import numpy as np\n",
        "\n",
        "arr = np.array([[[1, 2, 3], [4, 5, 6]], [[7, 8, 9], [10, 11, 12]]])\n",
        "\n",
        "for x in arr:\n",
        "  print(x,\"\\n\")\n",
        "\n",
        "\n",
        "#Iterate down to the scalars:\n",
        "\n",
        "import numpy as np\n",
        "\n",
        "arr = np.array([[[1, 2, 3], [4, 5, 6]], [[7, 8, 9], [10, 11, 12]]])\n",
        "\n",
        "for x in arr:\n",
        "  for y in x:\n",
        "    for z in y:\n",
        "      print(z)"
      ],
      "metadata": {
        "id": "cEx4odUCcB6A"
      },
      "execution_count": null,
      "outputs": []
    },
    {
      "cell_type": "markdown",
      "source": [
        "# **Iterating Arrays Using nditer()**\n",
        "The function nditer() is a helping function that can be used from very basic to very advanced iterations. It solves some basic issues which we face in iteration, lets go through it with examples.\n",
        "\n",
        "## **Iterating on Each Scalar Element**\n",
        "In basic for loops, iterating through each scalar of an array we need to use n for loops which can be difficult to write for arrays with very high dimensionality."
      ],
      "metadata": {
        "id": "UcFWV9aYcntq"
      }
    },
    {
      "cell_type": "code",
      "source": [
        "#Iterate through the following 3-D array:\n",
        "\n",
        "import numpy as np\n",
        "\n",
        "arr = np.array([[[1, 2], [3, 4]], [[5, 6], [7, 8]]])\n",
        "\n",
        "for x in np.nditer(arr):\n",
        "  print(x)"
      ],
      "metadata": {
        "colab": {
          "base_uri": "https://localhost:8080/"
        },
        "id": "TJqsrRR8cQtw",
        "outputId": "e8a280e5-8e86-40ae-de55-69f0f9c5e4fd"
      },
      "execution_count": null,
      "outputs": [
        {
          "output_type": "stream",
          "name": "stdout",
          "text": [
            "1\n",
            "2\n",
            "3\n",
            "4\n",
            "5\n",
            "6\n",
            "7\n",
            "8\n"
          ]
        }
      ]
    },
    {
      "cell_type": "markdown",
      "source": [
        "## **Iterating Array With Different Data Types**\n",
        "We can use op_dtypes argument and pass it the expected datatype to change the datatype of elements while iterating.\n",
        "\n",
        "NumPy does not change the data type of the element in-place (where the element is in array) so it needs some other space to perform this action, that extra space is called buffer, and in order to enable it in nditer() we pass flags=['buffered']."
      ],
      "metadata": {
        "id": "88keZir5c73x"
      }
    },
    {
      "cell_type": "code",
      "source": [
        "#Iterate through the array as a string:\n",
        "\n",
        "import numpy as np\n",
        "\n",
        "arr = np.array([1, 2, 3])\n",
        "\n",
        "for x in np.nditer(arr, flags=['buffered'], op_dtypes=['S']):\n",
        "  print(x)"
      ],
      "metadata": {
        "colab": {
          "base_uri": "https://localhost:8080/"
        },
        "id": "EFLm_aOqc_hg",
        "outputId": "a2761c51-9f69-45d1-d46f-b9b8e6a2c8fa"
      },
      "execution_count": null,
      "outputs": [
        {
          "output_type": "stream",
          "name": "stdout",
          "text": [
            "b'1'\n",
            "b'2'\n",
            "b'3'\n"
          ]
        }
      ]
    },
    {
      "cell_type": "code",
      "source": [
        "#Iterating With Different Step Size\n",
        "#Iterate through every scalar element of the 2D array skipping 1 element:\n",
        "\n",
        "import numpy as np\n",
        "\n",
        "arr = np.array([[1, 2, 3, 4], [5, 6, 7, 8]])\n",
        "\n",
        "for x in np.nditer(arr[:, ::2]):\n",
        "  print(x)"
      ],
      "metadata": {
        "colab": {
          "base_uri": "https://localhost:8080/"
        },
        "id": "-Nj2y_jddDSg",
        "outputId": "6cc0f45e-fc46-4505-99b5-e185255c5f36"
      },
      "execution_count": null,
      "outputs": [
        {
          "output_type": "stream",
          "name": "stdout",
          "text": [
            "1\n",
            "3\n",
            "5\n",
            "7\n"
          ]
        }
      ]
    },
    {
      "cell_type": "markdown",
      "source": [
        "## **Enumerated Iteration Using ndenumerate()**\n",
        "Enumeration means mentioning sequence number of somethings one by one.\n",
        "\n",
        "Sometimes we require corresponding index of the element while iterating, the ndenumerate() method can be used for those usecases."
      ],
      "metadata": {
        "id": "D2WVUVSEdaqy"
      }
    },
    {
      "cell_type": "code",
      "source": [
        "import numpy as np\n",
        "\n",
        "arr = np.array([1, 2, 3])\n",
        "\n",
        "for idx, x in np.ndenumerate(arr):\n",
        "  print(idx, x)\n"
      ],
      "metadata": {
        "colab": {
          "base_uri": "https://localhost:8080/"
        },
        "id": "o3g-4otvdefw",
        "outputId": "cc945335-4b38-4c84-a5f0-e1ed4607bd62"
      },
      "execution_count": null,
      "outputs": [
        {
          "output_type": "stream",
          "name": "stdout",
          "text": [
            "(0,) 1\n",
            "(1,) 2\n",
            "(2,) 3\n"
          ]
        }
      ]
    },
    {
      "cell_type": "code",
      "source": [
        "#Enumerate on following 2D array's elements:\n",
        "import numpy as np\n",
        "\n",
        "arr = np.array([[1, 2, 3, 4], [5, 6, 7, 8]])\n",
        "\n",
        "for idx, x in np.ndenumerate(arr):\n",
        "  print(idx, x)"
      ],
      "metadata": {
        "colab": {
          "base_uri": "https://localhost:8080/"
        },
        "id": "d5cBzdeddjyX",
        "outputId": "e60f23d0-0950-4522-cbfd-bb8303ded24b"
      },
      "execution_count": null,
      "outputs": [
        {
          "output_type": "stream",
          "name": "stdout",
          "text": [
            "(0, 0) 1\n",
            "(0, 1) 2\n",
            "(0, 2) 3\n",
            "(0, 3) 4\n",
            "(1, 0) 5\n",
            "(1, 1) 6\n",
            "(1, 2) 7\n",
            "(1, 3) 8\n"
          ]
        }
      ]
    },
    {
      "cell_type": "markdown",
      "source": [
        "# **Splitting NumPy Arrays**\n",
        "Splitting is reverse operation of Joining.\n",
        "\n",
        "Joining merges multiple arrays into one and Splitting breaks one array into multiple.\n",
        "\n",
        "We use array_split() for splitting arrays, we pass it the array we want to split and the number of splits."
      ],
      "metadata": {
        "id": "gKj6WRpFY16K"
      }
    },
    {
      "cell_type": "code",
      "source": [
        "# Splitting the single array into 3 parts:- \n",
        "import numpy as np\n",
        "\n",
        "arr = np.array([1, 2, 3, 4, 5, 6])\n",
        "                         #here \"arr\" is array name which u want or split\n",
        "newarr = np.array_split(arr, 3) # we're storing the splitting array into new array called newarr:-\n",
        "                            # here 3 is the part of the splitting\n",
        "\n",
        "print(newarr)"
      ],
      "metadata": {
        "colab": {
          "base_uri": "https://localhost:8080/"
        },
        "id": "qnFLKngfZAAH",
        "outputId": "0c93e7d7-7e23-477e-9c60-4584c8964f1d"
      },
      "execution_count": 6,
      "outputs": [
        {
          "output_type": "stream",
          "name": "stdout",
          "text": [
            "[array([1, 2]), array([3, 4]), array([5, 6])]\n"
          ]
        }
      ]
    },
    {
      "cell_type": "code",
      "source": [
        "#Access the splitted arrays:\n",
        "\n",
        "import numpy as np\n",
        "\n",
        "arr = np.array([1, 2, 3, 4, 5, 6])\n",
        "\n",
        "newarr = np.array_split(arr, 3)\n",
        "\n",
        "print(newarr[0])\n",
        "print(newarr[1])\n",
        "print(newarr[2])"
      ],
      "metadata": {
        "colab": {
          "base_uri": "https://localhost:8080/"
        },
        "id": "xaPjVbwAZipX",
        "outputId": "ea5267df-1ea2-4e5c-e242-1c20fcbf36f4"
      },
      "execution_count": 8,
      "outputs": [
        {
          "output_type": "stream",
          "name": "stdout",
          "text": [
            "[1 2]\n",
            "[3 4]\n",
            "[5 6]\n"
          ]
        }
      ]
    },
    {
      "cell_type": "code",
      "source": [
        "# Split the 2-D array into three 2-D arrays.\n",
        "\n",
        "import numpy as np\n",
        "\n",
        "arr = np.array([[1, 2], [3, 4], [5, 6], [7, 8], [9, 10], [11, 12]])\n",
        "\n",
        "newarr = np.array_split(arr, 3)\n",
        "\n",
        "print(newarr)"
      ],
      "metadata": {
        "colab": {
          "base_uri": "https://localhost:8080/"
        },
        "id": "cIjGkqs-ZxGg",
        "outputId": "f53851c2-0e62-4446-f3af-b31fb07e0ea1"
      },
      "execution_count": 9,
      "outputs": [
        {
          "output_type": "stream",
          "name": "stdout",
          "text": [
            "[array([[1, 2],\n",
            "       [3, 4]]), array([[5, 6],\n",
            "       [7, 8]]), array([[ 9, 10],\n",
            "       [11, 12]])]\n"
          ]
        }
      ]
    },
    {
      "cell_type": "code",
      "source": [
        "#Split the 2-D array into three 2-D arrays along rows.\n",
        "\n",
        "import numpy as np\n",
        "\n",
        "arr = np.array([[1, 2, 3], [4, 5, 6], [7, 8, 9], [10, 11, 12], [13, 14, 15], [16, 17, 18]])\n",
        "\n",
        "newarr = np.array_split(arr, 3, axis=1)\n",
        "\n",
        "print(newarr)"
      ],
      "metadata": {
        "colab": {
          "base_uri": "https://localhost:8080/"
        },
        "id": "VlCo7X9kZzpv",
        "outputId": "f860f40d-69ff-4c9c-eb86-bf0304258df8"
      },
      "execution_count": 10,
      "outputs": [
        {
          "output_type": "stream",
          "name": "stdout",
          "text": [
            "[array([[ 1],\n",
            "       [ 4],\n",
            "       [ 7],\n",
            "       [10],\n",
            "       [13],\n",
            "       [16]]), array([[ 2],\n",
            "       [ 5],\n",
            "       [ 8],\n",
            "       [11],\n",
            "       [14],\n",
            "       [17]]), array([[ 3],\n",
            "       [ 6],\n",
            "       [ 9],\n",
            "       [12],\n",
            "       [15],\n",
            "       [18]])]\n"
          ]
        }
      ]
    },
    {
      "cell_type": "code",
      "source": [
        "#Use the hsplit() method to split the 2-D array into three 2-D arrays along rows.\n",
        "\n",
        "import numpy as np\n",
        "\n",
        "arr = np.array([[1, 2, 3], [4, 5, 6], [7, 8, 9], [10, 11, 12], [13, 14, 15], [16, 17, 18]])\n",
        "\n",
        "newarr = np.hsplit(arr, 3)\n",
        "\n",
        "print(newarr)"
      ],
      "metadata": {
        "colab": {
          "base_uri": "https://localhost:8080/"
        },
        "id": "6OVwo5r9Z70O",
        "outputId": "9c62ed24-d5e8-44a0-86bf-173e5efda843"
      },
      "execution_count": 11,
      "outputs": [
        {
          "output_type": "stream",
          "name": "stdout",
          "text": [
            "[array([[ 1],\n",
            "       [ 4],\n",
            "       [ 7],\n",
            "       [10],\n",
            "       [13],\n",
            "       [16]]), array([[ 2],\n",
            "       [ 5],\n",
            "       [ 8],\n",
            "       [11],\n",
            "       [14],\n",
            "       [17]]), array([[ 3],\n",
            "       [ 6],\n",
            "       [ 9],\n",
            "       [12],\n",
            "       [15],\n",
            "       [18]])]\n"
          ]
        }
      ]
    },
    {
      "cell_type": "code",
      "source": [
        "#Similar alternates to vstack() and dstack() are available as vsplit() and dsplit()."
      ],
      "metadata": {
        "id": "lNCi_kgNaFzO"
      },
      "execution_count": 12,
      "outputs": []
    },
    {
      "cell_type": "code",
      "source": [
        ""
      ],
      "metadata": {
        "id": "8Qy0u3JyaKqf"
      },
      "execution_count": null,
      "outputs": []
    },
    {
      "cell_type": "markdown",
      "source": [
        "# **Numpy Array manipulation**:-"
      ],
      "metadata": {
        "id": "vmW2THCJnTRd"
      }
    },
    {
      "cell_type": "code",
      "source": [
        "# Concatinate two arrays:\n",
        "a = np.array([1,2,3])\n",
        "b = np.array([4,5,6])\n",
        "np.concatenate((a,b))"
      ],
      "metadata": {
        "colab": {
          "base_uri": "https://localhost:8080/"
        },
        "id": "MksmxyDCneCc",
        "outputId": "a120452b-212d-4367-ed0c-3c83629a48e9"
      },
      "execution_count": null,
      "outputs": [
        {
          "output_type": "execute_result",
          "data": {
            "text/plain": [
              "array([1, 2, 3, 4, 5, 6])"
            ]
          },
          "metadata": {},
          "execution_count": 297
        }
      ]
    },
    {
      "cell_type": "code",
      "source": [
        "# Stack array Row_wise_Vertically:-\n",
        "np.vstack((a,b))\n"
      ],
      "metadata": {
        "colab": {
          "base_uri": "https://localhost:8080/"
        },
        "id": "lspync-fn-bR",
        "outputId": "11bd5cdf-0d6d-4a10-b227-2ee67b9a0306"
      },
      "execution_count": null,
      "outputs": [
        {
          "output_type": "execute_result",
          "data": {
            "text/plain": [
              "array([[1, 2, 3],\n",
              "       [4, 5, 6]])"
            ]
          },
          "metadata": {},
          "execution_count": 298
        }
      ]
    },
    {
      "cell_type": "code",
      "source": [
        "#Stack array Horizontally:\n",
        "np.hstack((a,b))"
      ],
      "metadata": {
        "colab": {
          "base_uri": "https://localhost:8080/"
        },
        "id": "2Yv8dInEoZaZ",
        "outputId": "22ab6004-b22e-477f-9c95-10f58dc97a4d"
      },
      "execution_count": null,
      "outputs": [
        {
          "output_type": "execute_result",
          "data": {
            "text/plain": [
              "array([1, 2, 3, 4, 5, 6])"
            ]
          },
          "metadata": {},
          "execution_count": 299
        }
      ]
    },
    {
      "cell_type": "code",
      "source": [
        "#Combining Column wise :\n",
        "np.column_stack((a,b))"
      ],
      "metadata": {
        "colab": {
          "base_uri": "https://localhost:8080/"
        },
        "id": "i2lQGIvvomcZ",
        "outputId": "e3bc675a-c100-45b7-f0d5-dd3a7cf6eff3"
      },
      "execution_count": null,
      "outputs": [
        {
          "output_type": "execute_result",
          "data": {
            "text/plain": [
              "array([[1, 4],\n",
              "       [2, 5],\n",
              "       [3, 6]])"
            ]
          },
          "metadata": {},
          "execution_count": 300
        }
      ]
    },
    {
      "cell_type": "code",
      "source": [
        "#Spliting Array:-\n",
        "x = np.arange(16).reshape(4,4)\n",
        "print(x)\n",
        "print(\"\\n \", np.hsplit(x,2))\n",
        "print(\"\\n\\n\", np.hsplit(x,np.array([3])))"
      ],
      "metadata": {
        "colab": {
          "base_uri": "https://localhost:8080/"
        },
        "id": "_oQJy7dVozmJ",
        "outputId": "80f2cc3f-843d-4787-817a-ee6301660190"
      },
      "execution_count": null,
      "outputs": [
        {
          "output_type": "stream",
          "name": "stdout",
          "text": [
            "[[ 0  1  2  3]\n",
            " [ 4  5  6  7]\n",
            " [ 8  9 10 11]\n",
            " [12 13 14 15]]\n",
            "\n",
            "  [array([[ 0,  1],\n",
            "       [ 4,  5],\n",
            "       [ 8,  9],\n",
            "       [12, 13]]), array([[ 2,  3],\n",
            "       [ 6,  7],\n",
            "       [10, 11],\n",
            "       [14, 15]])]\n",
            "\n",
            "\n",
            " [array([[ 0,  1,  2],\n",
            "       [ 4,  5,  6],\n",
            "       [ 8,  9, 10],\n",
            "       [12, 13, 14]]), array([[ 3],\n",
            "       [ 7],\n",
            "       [11],\n",
            "       [15]])]\n"
          ]
        }
      ]
    }
  ]
}